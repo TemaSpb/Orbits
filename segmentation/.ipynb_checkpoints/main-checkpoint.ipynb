{
 "cells": [
  {
   "cell_type": "code",
   "execution_count": 34,
   "metadata": {
    "scrolled": true
   },
   "outputs": [],
   "source": [
    "import matplotlib.pyplot as plt\n",
    "import numpy as np \n",
    "import glob\n",
    "import scipy\n",
    "\n",
    "from skimage.segmentation import felzenszwalb, slic, quickshift, watershed\n",
    "from skimage.util import img_as_float\n",
    "from skimage.filters import sobel\n",
    "from skimage.color import rgb2gray\n",
    "from keras.preprocessing.image import array_to_img, img_to_array, load_img\n",
    "from keras.models import *\n",
    "from keras.layers.merge import concatenate\n",
    "from keras.layers import Input, merge, Conv2D, MaxPooling2D, UpSampling2D, Dropout, Cropping2D\n",
    "from keras.optimizers import *\n",
    "from keras.callbacks import ModelCheckpoint, LearningRateScheduler\n",
    "from keras import backend as keras"
   ]
  },
  {
   "cell_type": "code",
   "execution_count": 14,
   "metadata": {
    "collapsed": true
   },
   "outputs": [],
   "source": [
    "# make config\n",
    "\n",
    "rows = 64\n",
    "cols = 192\n",
    "train_path = \"train\"\n",
    "label_path = \"labels\"\n",
    "img_type = \"jpg\"\n",
    "test_path = \"test\"\n",
    "npy_path = \"npydata\""
   ]
  },
  {
   "cell_type": "markdown",
   "metadata": {},
   "source": [
    "# Low-level segmentation with superpixel algorithms"
   ]
  },
  {
   "cell_type": "code",
   "execution_count": 28,
   "metadata": {},
   "outputs": [],
   "source": [
    "def create_data(data_path_img, npy_path, rows, cols, alg, segments = None, img_type = \"jpg\"):   \n",
    "    imgs = glob.glob(\"data\\\\\" + data_path_img + \"\\\\*.\" + img_type)\n",
    "    img_count = len(imgs)\n",
    "    i = 0\n",
    "    imgs_data = np.ndarray((img_count, rows, cols, 1))\n",
    "    for img_name in imgs:\n",
    "        img = load_img(img_name)\n",
    "        img = img_as_float(img)\n",
    "        if type(segments) == type(None):\n",
    "            segments = segments_creation(img, alg)\n",
    "        segment_mean = scipy.ndimage.measurements.mean(img[:,:,0], segments, range(250))\n",
    "        img = segment_mean[segments]\n",
    "        imgs_data[i] = np.expand_dims(img, axis = 2)\n",
    "        if i % 10 == 0:\n",
    "            print('Done: {0}/{1} images'.format(i, img_count))\n",
    "        i += 1\n",
    "    print('Created.')\n",
    "    np.save(\"data\\\\\" + npy_path + '\\\\imgs_' + data_path_img + '.npy', imgs_data)\n",
    "    print('Saving to .npy files done.')\n",
    "    return segments"
   ]
  },
  {
   "cell_type": "code",
   "execution_count": 30,
   "metadata": {
    "collapsed": true
   },
   "outputs": [],
   "source": [
    "def segments_creation(img, alg):\n",
    "    if (alg == \"felzenszwalb\"):\n",
    "        return felzenszwalb(img, scale=100, sigma=0.5, min_size=50)\n",
    "    elif (alg == \"quickshift\"):\n",
    "        return quickshift(img, kernel_size=3, max_dist=6, ratio=0.5)\n",
    "    elif (alg == \"watershed\"):\n",
    "        gradient = sobel(rgb2gray(img))\n",
    "        return watershed(gradient, markers=250, compactness=0.001)\n",
    "    else:\n",
    "        return slic(img, n_segments=250, compactness=10, sigma=1)"
   ]
  },
  {
   "cell_type": "code",
   "execution_count": 12,
   "metadata": {
    "collapsed": true
   },
   "outputs": [],
   "source": [
    "def load_data(data_path, npy_path, process_colors = False):\n",
    "    imgs = np.load(\"data\\\\\" + npy_path + '\\\\imgs_' + data_path + '.npy')\n",
    "    imgs = imgs.astype('float32')\n",
    "    imgs /= 255\n",
    "    if (process_colors):\n",
    "        imgs[imgs > 0.5] = 1\n",
    "        imgs[imgs <= 0.5] = 0\n",
    "    return imgs"
   ]
  },
  {
   "cell_type": "code",
   "execution_count": 36,
   "metadata": {
    "scrolled": true
   },
   "outputs": [
    {
     "name": "stderr",
     "output_type": "stream",
     "text": [
      "C:\\Python\\lib\\site-packages\\scipy\\ndimage\\measurements.py:639: RuntimeWarning: invalid value encountered in true_divide\n",
      "  return sum / numpy.asanyarray(count).astype(numpy.float)\n"
     ]
    },
    {
     "name": "stdout",
     "output_type": "stream",
     "text": [
      "Done: 0/35 images\n",
      "Done: 10/35 images\n",
      "Done: 20/35 images\n",
      "Done: 30/35 images\n",
      "Created.\n",
      "Saving to .npy files done.\n",
      "Done: 0/35 images\n",
      "Done: 10/35 images\n",
      "Done: 20/35 images\n",
      "Done: 30/35 images\n",
      "Created.\n",
      "Saving to .npy files done.\n",
      "Done: 0/4 images\n",
      "Created.\n",
      "Saving to .npy files done.\n",
      "Done: 0/35 images\n",
      "Done: 10/35 images\n",
      "Done: 20/35 images\n",
      "Done: 30/35 images\n",
      "Created.\n",
      "Saving to .npy files done.\n",
      "Done: 0/35 images\n",
      "Done: 10/35 images\n",
      "Done: 20/35 images\n",
      "Done: 30/35 images\n",
      "Created.\n",
      "Saving to .npy files done.\n",
      "Done: 0/4 images\n",
      "Created.\n",
      "Saving to .npy files done.\n",
      "Done: 0/35 images\n",
      "Done: 10/35 images\n",
      "Done: 20/35 images\n",
      "Done: 30/35 images\n",
      "Created.\n",
      "Saving to .npy files done.\n",
      "Done: 0/35 images\n",
      "Done: 10/35 images\n",
      "Done: 20/35 images\n",
      "Done: 30/35 images\n",
      "Created.\n",
      "Saving to .npy files done.\n",
      "Done: 0/4 images\n",
      "Created.\n",
      "Saving to .npy files done.\n",
      "Done: 0/35 images\n",
      "Done: 10/35 images\n",
      "Done: 20/35 images\n",
      "Done: 30/35 images\n",
      "Created.\n",
      "Saving to .npy files done.\n",
      "Done: 0/35 images\n",
      "Done: 10/35 images\n",
      "Done: 20/35 images\n",
      "Done: 30/35 images\n",
      "Created.\n",
      "Saving to .npy files done.\n",
      "Done: 0/4 images\n",
      "Created.\n",
      "Saving to .npy files done.\n"
     ]
    }
   ],
   "source": [
    "algs = [\"felzenszwalb\", \"slic\", \"quickshift\", \"watershed\"]\n",
    "\n",
    "for alg in algs:\n",
    "    segments = create_data(train_path, npy_path + \"_\" + alg, rows, cols, alg)\n",
    "    segments = create_data(label_path, npy_path + \"_\" + alg, rows, cols, alg, segments)\n",
    "    segments = create_data(test_path, npy_path + \"_\" + alg, rows, cols, alg)"
   ]
  }
 ],
 "metadata": {
  "kernelspec": {
   "display_name": "Python 3",
   "language": "python",
   "name": "python3"
  },
  "language_info": {
   "codemirror_mode": {
    "name": "ipython",
    "version": 3
   },
   "file_extension": ".py",
   "mimetype": "text/x-python",
   "name": "python",
   "nbconvert_exporter": "python",
   "pygments_lexer": "ipython3",
   "version": "3.6.1"
  }
 },
 "nbformat": 4,
 "nbformat_minor": 2
}
