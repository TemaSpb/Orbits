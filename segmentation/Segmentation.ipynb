{
 "cells": [
  {
   "cell_type": "code",
   "execution_count": 3,
   "metadata": {},
   "outputs": [
    {
     "name": "stderr",
     "output_type": "stream",
     "text": [
      "Using TensorFlow backend.\n"
     ]
    }
   ],
   "source": [
    "import numpy as np \n",
    "import glob\n",
    "from keras.preprocessing.image import array_to_img, img_to_array, load_img\n",
    "from keras.models import *\n",
    "from keras.layers.merge import concatenate\n",
    "from keras.layers import Input, merge, Conv2D, MaxPooling2D, UpSampling2D, Dropout, Cropping2D\n",
    "from keras.optimizers import *\n",
    "from keras.callbacks import ModelCheckpoint, LearningRateScheduler\n",
    "from keras import backend as keras"
   ]
  },
  {
   "cell_type": "markdown",
   "metadata": {},
   "source": [
    "# Data processing"
   ]
  },
  {
   "cell_type": "code",
   "execution_count": 20,
   "metadata": {
    "collapsed": true
   },
   "outputs": [],
   "source": [
    "# make config\n",
    "rows = 256\n",
    "cols = 256\n",
    "train_path = \"train\"\n",
    "label_path = \"label\"\n",
    "img_type = \"jpg\"\n",
    "test_path = \"test\"\n",
    "npy_path = \"npydata\""
   ]
  },
  {
   "cell_type": "code",
   "execution_count": 19,
   "metadata": {
    "collapsed": true
   },
   "outputs": [],
   "source": [
    "def create_data(data_path, npy_path, rows, cols):   \n",
    "    imgs = glob.glob(\"data\\\\\" + data_path + \"\\\\*.\" + img_type)\n",
    "    i = 0\n",
    "    img_count = len(imgs)\n",
    "    imgs_data = np.ndarray((img_count, rows, cols, 1), dtype=np.uint8)\n",
    "    for img_full_name in imgs:\n",
    "        img_name = img_full_name[img_full_name.rindex(\"\\\\\") + 1:]\n",
    "        # test\n",
    "        img = load_img(\"data\\\\\" + data_path + \"\\\\\" + img_name, grayscale = True)\n",
    "        img = img_to_array(img)\n",
    "        imgs_data[i] = img\n",
    "        if i % 10 == 0:\n",
    "            print('Done: {0}/{1} images'.format(i, img_count))\n",
    "        i += 1\n",
    "    print('Created.')\n",
    "    np.save(\"data\\\\\" + npy_path + '\\\\imgs_' + data_path + '.npy', imgs_data)\n",
    "    print('Saving to .npy files done.')"
   ]
  },
  {
   "cell_type": "code",
   "execution_count": 18,
   "metadata": {
    "collapsed": true
   },
   "outputs": [],
   "source": [
    "def load_data(data_path, npy_path, process_colors = False):\n",
    "    imgs = np.load(\"data\\\\\" + npy_path + '\\\\imgs_' + data_path + '.npy')\n",
    "    imgs = imgs.astype('float32')\n",
    "    imgs /= 255\n",
    "    if (process_colors):\n",
    "        imgs[imgs > 0.5] = 1\n",
    "        imgs[imgs <= 0.5] = 0\n",
    "    return imgs"
   ]
  },
  {
   "cell_type": "markdown",
   "metadata": {},
   "source": [
    "# U-net"
   ]
  },
  {
   "cell_type": "code",
   "execution_count": 29,
   "metadata": {
    "collapsed": true
   },
   "outputs": [],
   "source": [
    "def get_model(rows, cols):\n",
    "\n",
    "    input_shape = (rows, cols, 1)\n",
    "\n",
    "    model = Sequential()\n",
    "    model.add(Conv2D(32, 3, padding='same', activation='relu', input_shape=input_shape))\n",
    "    model.add(Conv2D(32, 3, padding='same', activation='relu'))\n",
    "    model.add(MaxPooling2D(pool_size=(2, 2)))\n",
    "\n",
    "    model.add(Conv2D(64, 3, padding='same', activation='relu'))\n",
    "    model.add(Conv2D(64, 3, padding='same', activation='relu'))\n",
    "    model.add(MaxPooling2D(pool_size=(2, 2)))\n",
    "\n",
    "    model.add(Conv2D(64, 3, padding='same', activation='relu'))\n",
    "    model.add(Conv2D(64, 3, padding='same', activation='relu'))\n",
    "    model.add(MaxPooling2D(pool_size=(2, 2)))\n",
    "\n",
    "    model.add(Conv2D(128, 3, padding='same', activation='relu'))\n",
    "    model.add(Conv2D(128, 3, padding='same', activation='relu'))\n",
    "    model.add(MaxPooling2D(pool_size=(2, 2)))\n",
    "\n",
    "    model.add(Conv2D(256, 3, padding='same', activation='relu'))\n",
    "\n",
    "    model.add(UpSampling2D(size=(2, 2)))\n",
    "    model.add(Conv2D(256, 3, padding='same', activation='relu'))\n",
    "    model.add(Conv2D(256, 3, padding='same', activation='relu'))\n",
    "    model.add(Conv2D(256, 3, padding='same', activation='relu'))\n",
    "\n",
    "    model.add(UpSampling2D(size=(2, 2)))\n",
    "    model.add(Conv2D(256, 3, padding='same', activation='relu'))\n",
    "    model.add(Conv2D(256, 3, padding='same', activation='relu'))\n",
    "    model.add(Conv2D(256, 3, padding='same', activation='relu'))\n",
    "\n",
    "    model.add(UpSampling2D(size=(2, 2)))\n",
    "    model.add(Conv2D(128, 3, padding='same', activation='relu'))\n",
    "    model.add(Conv2D(128, 3, padding='same', activation='relu'))\n",
    "    model.add(Conv2D(128, 3, padding='same', activation='relu'))\n",
    "\n",
    "    model.add(UpSampling2D(size=(2, 2)))\n",
    "    model.add(Conv2D(64, 3, padding='same', activation='relu'))\n",
    "    model.add(Conv2D(64, 3, padding='same', activation='relu'))\n",
    "    model.add(Conv2D(64, 3, padding='same', activation='relu'))\n",
    "\n",
    "    model.add(Conv2D(1, 3, padding='same', activation='sigmoid'))\n",
    "\n",
    "    model.compile(optimizer = Adam(lr = 1e-4), loss = 'binary_crossentropy', metrics = ['accuracy'])\n",
    "\n",
    "    return model"
   ]
  },
  {
   "cell_type": "code",
   "execution_count": 16,
   "metadata": {
    "collapsed": true
   },
   "outputs": [],
   "source": [
    "def train(train_path, test_path, label_path, npy_path, rows, cols):\n",
    "    imgs_train = load_data(train_path, npy_path)\n",
    "    imgs_test = load_data(test_path, npy_path)\n",
    "    imgs_mask_train = load_data(label_path, npy_path, True)\n",
    "    model = get_model(rows, cols)\n",
    "\n",
    "    model_checkpoint = ModelCheckpoint('unet.hdf5', monitor='loss',verbose=1, save_best_only=True)\n",
    "    model.fit(imgs_train, imgs_mask_train, batch_size=4, nb_epoch=5, verbose=1,validation_split=0.2, shuffle=True, callbacks=[model_checkpoint])\n",
    "\n",
    "    imgs_mask_test = model.predict(imgs_test, batch_size=1, verbose=1)\n",
    "    save_results(imgs_mask_test)"
   ]
  },
  {
   "cell_type": "code",
   "execution_count": 23,
   "metadata": {
    "collapsed": true
   },
   "outputs": [],
   "source": [
    "def predict(test_path, npy_path, rows, cols):\n",
    "    imgs_test = load_data(test_path, npy_path)\n",
    "    model = get_model(rows, cols)\n",
    "    model.load_weights('unet.hdf5')\n",
    "    imgs_mask_test = model.predict(imgs_test, batch_size = 4, verbose=1)\n",
    "    save_results(imgs_mask_test)"
   ]
  },
  {
   "cell_type": "code",
   "execution_count": 26,
   "metadata": {
    "collapsed": true
   },
   "outputs": [],
   "source": [
    "def save_results(imgs):\n",
    "    i = 1\n",
    "    for img in imgs:\n",
    "            img = array_to_img(img)\n",
    "            img.save(\"data\\\\results\\\\%d.jpg\"%(i))   \n",
    "            i += 1"
   ]
  },
  {
   "cell_type": "markdown",
   "metadata": {},
   "source": [
    "# Main"
   ]
  },
  {
   "cell_type": "code",
   "execution_count": null,
   "metadata": {
    "collapsed": true
   },
   "outputs": [],
   "source": [
    "create_data(train_path, npy_path, rows, cols)\n",
    "create_data(label_path, npy_path, rows, cols)\n",
    "create_data(test_path, npy_path, rows, cols)"
   ]
  },
  {
   "cell_type": "code",
   "execution_count": 30,
   "metadata": {
    "scrolled": true
   },
   "outputs": [
    {
     "name": "stderr",
     "output_type": "stream",
     "text": [
      "C:\\Users\\artem.eprev\\AppData\\Local\\Continuum\\anaconda3\\lib\\site-packages\\keras\\models.py:942: UserWarning: The `nb_epoch` argument in `fit` has been renamed `epochs`.\n",
      "  warnings.warn('The `nb_epoch` argument in `fit` '\n"
     ]
    },
    {
     "name": "stdout",
     "output_type": "stream",
     "text": [
      "Train on 115 samples, validate on 29 samples\n",
      "Epoch 1/5\n",
      "115/115 [==============================] - 341s 3s/step - loss: 0.5579 - acc: 0.8483 - val_loss: 0.3135 - val_acc: 0.9548\n",
      "\n",
      "Epoch 00001: loss improved from inf to 0.55791, saving model to unet.hdf5\n",
      "Epoch 2/5\n",
      "115/115 [==============================] - 340s 3s/step - loss: 0.3419 - acc: 0.8494 - val_loss: 0.0835 - val_acc: 0.9548\n",
      "\n",
      "Epoch 00002: loss improved from 0.55791 to 0.34189, saving model to unet.hdf5\n",
      "Epoch 3/5\n",
      "115/115 [==============================] - 366s 3s/step - loss: 0.1909 - acc: 0.8494 - val_loss: 0.0761 - val_acc: 0.9548\n",
      "\n",
      "Epoch 00003: loss improved from 0.34189 to 0.19093, saving model to unet.hdf5\n",
      "Epoch 4/5\n",
      "115/115 [==============================] - 386s 3s/step - loss: 0.1660 - acc: 0.8494 - val_loss: 0.0619 - val_acc: 0.9548\n",
      "\n",
      "Epoch 00004: loss improved from 0.19093 to 0.16603, saving model to unet.hdf5\n",
      "Epoch 5/5\n",
      "115/115 [==============================] - 346s 3s/step - loss: 0.1428 - acc: 0.9346 - val_loss: 0.0577 - val_acc: 0.9726\n",
      "\n",
      "Epoch 00005: loss improved from 0.16603 to 0.14280, saving model to unet.hdf5\n",
      "5/5 [==============================] - 4s 894ms/step\n"
     ]
    }
   ],
   "source": [
    "train(train_path, test_path, label_path, npy_path, rows, cols)"
   ]
  },
  {
   "cell_type": "code",
   "execution_count": 31,
   "metadata": {},
   "outputs": [
    {
     "name": "stdout",
     "output_type": "stream",
     "text": [
      "5/5 [==============================] - 5s 902ms/step\n"
     ]
    }
   ],
   "source": [
    "predict(test_path, npy_path, rows, cols)"
   ]
  }
 ],
 "metadata": {
  "kernelspec": {
   "display_name": "Python 3",
   "language": "python",
   "name": "python3"
  },
  "language_info": {
   "codemirror_mode": {
    "name": "ipython",
    "version": 3
   },
   "file_extension": ".py",
   "mimetype": "text/x-python",
   "name": "python",
   "nbconvert_exporter": "python",
   "pygments_lexer": "ipython3",
   "version": "3.6.3"
  }
 },
 "nbformat": 4,
 "nbformat_minor": 2
}
