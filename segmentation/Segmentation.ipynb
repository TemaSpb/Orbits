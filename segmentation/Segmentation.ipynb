{
 "cells": [
  {
   "cell_type": "code",
   "execution_count": 3,
   "metadata": {},
   "outputs": [
    {
     "name": "stderr",
     "output_type": "stream",
     "text": [
      "Using TensorFlow backend.\n"
     ]
    }
   ],
   "source": [
    "import numpy as np \n",
    "import glob\n",
    "from keras.preprocessing.image import array_to_img, img_to_array, load_img\n",
    "from keras.models import *\n",
    "from keras.layers.merge import concatenate\n",
    "from keras.layers import Input, merge, Conv2D, MaxPooling2D, UpSampling2D, Dropout, Cropping2D\n",
    "from keras.optimizers import *\n",
    "from keras.callbacks import ModelCheckpoint, LearningRateScheduler\n",
    "from keras import backend as keras"
   ]
  },
  {
   "cell_type": "markdown",
   "metadata": {},
   "source": [
    "# Data processing"
   ]
  },
  {
   "cell_type": "code",
   "execution_count": 4,
   "metadata": {},
   "outputs": [],
   "source": [
    "# make config\n",
    "rows = 256\n",
    "cols = 256\n",
    "train_path = \"train\"\n",
    "label_path = \"label\"\n",
    "img_type = \"jpg\"\n",
    "test_path = \"test\"\n",
    "npy_path = \"npydata\""
   ]
  },
  {
   "cell_type": "code",
   "execution_count": 11,
   "metadata": {
    "collapsed": true
   },
   "outputs": [],
   "source": [
    "def create_data(data_path, npy_path, rows, cols):   \n",
    "    imgs = glob.glob(\"data\\\\\" + data_path + \"\\\\*.\" + img_type)\n",
    "    i = 0\n",
    "    img_count = len(imgs)\n",
    "    imgs_data = np.ndarray((img_count, rows, cols, 1), dtype=np.uint8)\n",
    "    for img_full_name in imgs:\n",
    "        img_name = img_full_name[img_full_name.rindex(\"\\\\\") + 1:]\n",
    "        # test\n",
    "        img = load_img(\"data\\\\\" + data_path + \"\\\\\" + img_name, grayscale = True)\n",
    "        img = img_to_array(img)\n",
    "        imgs_data[i] = img\n",
    "        if i % 10 == 0:\n",
    "            print('Done: {0}/{1} images'.format(i, img_count))\n",
    "        i += 1\n",
    "    print('Created.')\n",
    "    np.save(\"data\\\\\" + npy_path + '\\\\imgs_' + data_path + '.npy', imgs_data)\n",
    "    print('Saving to .npy files done.')"
   ]
  },
  {
   "cell_type": "code",
   "execution_count": 6,
   "metadata": {
    "collapsed": true
   },
   "outputs": [],
   "source": [
    "def load_data(data_path, npy_path, process_colors = False):\n",
    "    imgs = np.load(\"data\\\\\" + npy_path + '\\\\imgs_' + data_path + '.npy')\n",
    "    imgs = imgs.astype('float32')\n",
    "    imgs /= 255\n",
    "    if (process_colors):\n",
    "        imgs[imgs > 0.5] = 1\n",
    "        imgs[imgs <= 0.5] = 0\n",
    "    return imgs"
   ]
  },
  {
   "cell_type": "markdown",
   "metadata": {},
   "source": [
    "# U-net"
   ]
  },
  {
   "cell_type": "code",
   "execution_count": 7,
   "metadata": {
    "collapsed": true
   },
   "outputs": [],
   "source": [
    "def get_model(rows, cols):\n",
    "\n",
    "    inputs = Input((rows, cols, 1))\n",
    "    merge_axis = -1\n",
    "\n",
    "    conv1 = Conv2D(32, 3, padding='same', activation='relu')(inputs)\n",
    "    conv1 = Conv2D(32, 3, padding='same', activation='relu')(conv1)\n",
    "    pool1 = MaxPooling2D(pool_size=(2, 2))(conv1)\n",
    "\n",
    "    conv2 = Conv2D(64, 3, padding='same', activation='relu')(pool1)\n",
    "    conv2 = Conv2D(64, 3, padding='same', activation='relu')(conv2)\n",
    "    pool2 = MaxPooling2D(pool_size=(2, 2))(conv2)\n",
    "\n",
    "    conv3 = Conv2D(64, 3, padding='same', activation='relu')(pool2)\n",
    "    conv3 = Conv2D(64, 3, padding='same', activation='relu')(conv3)\n",
    "    pool3 = MaxPooling2D(pool_size=(2, 2))(conv3)\n",
    "\n",
    "    conv4 = Conv2D(128, 3, padding='same', activation='relu')(pool3)\n",
    "    conv4 = Conv2D(128, 3, padding='same', activation='relu')(conv4)\n",
    "    pool4 = MaxPooling2D(pool_size=(2, 2))(conv4)\n",
    "\n",
    "    conv5 = Conv2D(256, 3, padding='same', activation='relu')(pool4)\n",
    "\n",
    "    up1 = UpSampling2D(size=(2, 2))(conv5)\n",
    "    conv6 = Conv2D(256, 3, padding='same', activation='relu')(up1)\n",
    "    conv6 = Conv2D(256, 3, padding='same', activation='relu')(conv6)\n",
    "    merged1 = concatenate([conv4, conv6], axis=merge_axis)\n",
    "    conv6 = Conv2D(256, 3, padding='same', activation='relu')(merged1)\n",
    "\n",
    "    up2 = UpSampling2D(size=(2, 2))(conv6)\n",
    "    conv7 = Conv2D(256, 3, padding='same', activation='relu')(up2)\n",
    "    conv7 = Conv2D(256, 3, padding='same', activation='relu')(conv7)\n",
    "    merged2 = concatenate([conv3, conv7], axis=merge_axis)\n",
    "    conv7 = Conv2D(256, 3, padding='same', activation='relu')(merged2)\n",
    "\n",
    "    up3 = UpSampling2D(size=(2, 2))(conv7)\n",
    "    conv8 = Conv2D(128, 3, padding='same', activation='relu')(up3)\n",
    "    conv8 = Conv2D(128, 3, padding='same', activation='relu')(conv8)\n",
    "    merged3 = concatenate([conv2, conv8], axis=merge_axis)\n",
    "    conv8 = Conv2D(128, 3, padding='same', activation='relu')(merged3)\n",
    "\n",
    "    up4 = UpSampling2D(size=(2, 2))(conv8)\n",
    "    conv9 = Conv2D(64, 3, padding='same', activation='relu')(up4)\n",
    "    conv9 = Conv2D(64, 3, padding='same', activation='relu')(conv9)\n",
    "    merged4 = concatenate([conv1, conv9], axis=merge_axis)\n",
    "    conv9 = Conv2D(64, 3, padding='same', activation='relu')(merged4)\n",
    "\n",
    "    conv10 = Conv2D(1, 3, padding='same', activation='sigmoid')(conv9)\n",
    "\n",
    "\n",
    "    model = Model(inputs, conv10)\n",
    "\n",
    "    model.compile(optimizer = Adam(lr = 1e-4), loss = 'binary_crossentropy', metrics = ['accuracy'])\n",
    "\n",
    "    return model"
   ]
  },
  {
   "cell_type": "code",
   "execution_count": 13,
   "metadata": {
    "collapsed": true
   },
   "outputs": [],
   "source": [
    "def train(train_path, test_path, label_path, npy_path, rows, cols):\n",
    "    imgs_train = load_data(train_path, npy_path)\n",
    "    imgs_test = load_data(test_path, npy_path)\n",
    "    imgs_mask_train = load_data(label_path, npy_path, True)\n",
    "    model = get_model(rows, cols)\n",
    "\n",
    "    model_checkpoint = ModelCheckpoint('unet.hdf5', monitor='loss',verbose=1, save_best_only=True)\n",
    "    model.fit(imgs_train, imgs_mask_train, batch_size=4, nb_epoch=5, verbose=1,validation_split=0.2, shuffle=True, callbacks=[model_checkpoint])\n",
    "\n",
    "    imgs_mask_test = model.predict(imgs_test, batch_size=1, verbose=1)\n",
    "    for img in imgs_mask_test:\n",
    "        img = array_to_img(img)\n",
    "        img.save(\"data\\\\results\\\\%d.jpg\"%(i))"
   ]
  },
  {
   "cell_type": "markdown",
   "metadata": {},
   "source": [
    "# Main"
   ]
  },
  {
   "cell_type": "code",
   "execution_count": 12,
   "metadata": {},
   "outputs": [
    {
     "name": "stdout",
     "output_type": "stream",
     "text": [
      "Done: 0/144 images\n",
      "Done: 10/144 images\n",
      "Done: 20/144 images\n",
      "Done: 30/144 images\n",
      "Done: 40/144 images\n",
      "Done: 50/144 images\n",
      "Done: 60/144 images\n",
      "Done: 70/144 images\n",
      "Done: 80/144 images\n",
      "Done: 90/144 images\n",
      "Done: 100/144 images\n",
      "Done: 110/144 images\n",
      "Done: 120/144 images\n",
      "Done: 130/144 images\n",
      "Done: 140/144 images\n",
      "Created.\n",
      "Saving to .npy files done.\n",
      "Done: 0/144 images\n",
      "Done: 10/144 images\n",
      "Done: 20/144 images\n",
      "Done: 30/144 images\n",
      "Done: 40/144 images\n",
      "Done: 50/144 images\n",
      "Done: 60/144 images\n",
      "Done: 70/144 images\n",
      "Done: 80/144 images\n",
      "Done: 90/144 images\n",
      "Done: 100/144 images\n",
      "Done: 110/144 images\n",
      "Done: 120/144 images\n",
      "Done: 130/144 images\n",
      "Done: 140/144 images\n",
      "Created.\n",
      "Saving to .npy files done.\n",
      "Done: 0/5 images\n",
      "Created.\n",
      "Saving to .npy files done.\n"
     ]
    },
    {
     "name": "stderr",
     "output_type": "stream",
     "text": [
      "C:\\Users\\artem.eprev\\AppData\\Local\\Continuum\\anaconda3\\lib\\site-packages\\ipykernel_launcher.py:8: UserWarning: The `nb_epoch` argument in `fit` has been renamed `epochs`.\n",
      "  \n"
     ]
    },
    {
     "name": "stdout",
     "output_type": "stream",
     "text": [
      "Train on 115 samples, validate on 29 samples\n",
      "Epoch 1/5\n",
      "115/115 [==============================] - 409s 4s/step - loss: 0.5506 - acc: 0.7999 - val_loss: 0.3038 - val_acc: 0.9548\n",
      "\n",
      "Epoch 00001: loss improved from inf to 0.55060, saving model to unet.hdf5\n",
      "Epoch 2/5\n",
      "115/115 [==============================] - 402s 3s/step - loss: 0.3507 - acc: 0.8494 - val_loss: 0.0851 - val_acc: 0.9548\n",
      "\n",
      "Epoch 00002: loss improved from 0.55060 to 0.35069, saving model to unet.hdf5\n",
      "Epoch 3/5\n",
      "115/115 [==============================] - 384s 3s/step - loss: 0.1886 - acc: 0.8494 - val_loss: 0.0805 - val_acc: 0.9548\n",
      "\n",
      "Epoch 00003: loss improved from 0.35069 to 0.18862, saving model to unet.hdf5\n",
      "Epoch 4/5\n",
      "115/115 [==============================] - 358s 3s/step - loss: 0.1841 - acc: 0.8494 - val_loss: 0.0620 - val_acc: 0.9548\n",
      "\n",
      "Epoch 00004: loss improved from 0.18862 to 0.18414, saving model to unet.hdf5\n",
      "Epoch 5/5\n",
      "115/115 [==============================] - 390s 3s/step - loss: 0.1599 - acc: 0.8784 - val_loss: 0.0688 - val_acc: 0.9786\n",
      "\n",
      "Epoch 00005: loss improved from 0.18414 to 0.15989, saving model to unet.hdf5\n",
      "5/5 [==============================] - 5s 1s/step\n"
     ]
    }
   ],
   "source": [
    "create_data(train_path, npy_path, rows, cols)\n",
    "create_data(label_path, npy_path, rows, cols)\n",
    "create_data(test_path, npy_path, rows, cols)\n",
    "\n",
    "train(train_path, test_path, label_path, npy_path, rows, cols)"
   ]
  }
 ],
 "metadata": {
  "kernelspec": {
   "display_name": "Python 3",
   "language": "python",
   "name": "python3"
  },
  "language_info": {
   "codemirror_mode": {
    "name": "ipython",
    "version": 3
   },
   "file_extension": ".py",
   "mimetype": "text/x-python",
   "name": "python",
   "nbconvert_exporter": "python",
   "pygments_lexer": "ipython3",
   "version": "3.6.3"
  }
 },
 "nbformat": 4,
 "nbformat_minor": 2
}
