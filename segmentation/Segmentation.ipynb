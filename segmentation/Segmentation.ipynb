{
 "cells": [
  {
   "cell_type": "code",
   "execution_count": 1,
   "metadata": {},
   "outputs": [
    {
     "name": "stderr",
     "output_type": "stream",
     "text": [
      "Using TensorFlow backend.\n"
     ]
    }
   ],
   "source": [
    "import numpy as np \n",
    "import glob\n",
    "from keras.preprocessing.image import array_to_img, img_to_array, load_img\n",
    "from keras.models import *\n",
    "from keras.layers.merge import concatenate\n",
    "from keras.layers import Input, merge, Conv2D, MaxPooling2D, UpSampling2D, Dropout, Cropping2D\n",
    "from keras.optimizers import *\n",
    "from keras.callbacks import ModelCheckpoint, LearningRateScheduler\n",
    "from keras import backend as keras"
   ]
  },
  {
   "cell_type": "markdown",
   "metadata": {},
   "source": [
    "# Data processing"
   ]
  },
  {
   "cell_type": "code",
   "execution_count": 2,
   "metadata": {
    "collapsed": true
   },
   "outputs": [],
   "source": [
    "# make config\n",
    "rows = 256\n",
    "cols = 256\n",
    "train_path = \"train\"\n",
    "label_path = \"label\"\n",
    "img_type = \"jpg\"\n",
    "test_path = \"test\"\n",
    "npy_path = \"npydata\""
   ]
  },
  {
   "cell_type": "code",
   "execution_count": 3,
   "metadata": {
    "collapsed": true
   },
   "outputs": [],
   "source": [
    "def create_data(data_path, npy_path, rows, cols):   \n",
    "    imgs = glob.glob(\"data\\\\\" + data_path + \"\\\\*.\" + img_type)\n",
    "    i = 0\n",
    "    img_count = len(imgs)\n",
    "    imgs_data = np.ndarray((img_count, rows, cols, 1), dtype=np.uint8)\n",
    "    for img_full_name in imgs:\n",
    "        img_name = img_full_name[img_full_name.rindex(\"\\\\\") + 1:]\n",
    "        # test\n",
    "        img = load_img(\"data\\\\\" + data_path + \"\\\\\" + img_name, grayscale = True)\n",
    "        img = img_to_array(img)\n",
    "        imgs_data[i] = img\n",
    "        if i % 10 == 0:\n",
    "            print('Done: {0}/{1} images'.format(i, img_count))\n",
    "        i += 1\n",
    "    print('Created.')\n",
    "    np.save(\"data\\\\\" + npy_path + '\\\\imgs_' + data_path + '.npy', imgs_data)\n",
    "    print('Saving to .npy files done.')"
   ]
  },
  {
   "cell_type": "code",
   "execution_count": 4,
   "metadata": {
    "collapsed": true
   },
   "outputs": [],
   "source": [
    "def load_data(data_path, npy_path, process_colors = False):\n",
    "    imgs = np.load(\"data\\\\\" + npy_path + '\\\\imgs_' + data_path + '.npy')\n",
    "    imgs = imgs.astype('float32')\n",
    "    imgs /= 255\n",
    "    if (process_colors):\n",
    "        imgs[imgs > 0.5] = 1\n",
    "        imgs[imgs <= 0.5] = 0\n",
    "    return imgs"
   ]
  },
  {
   "cell_type": "markdown",
   "metadata": {},
   "source": [
    "# U-net"
   ]
  },
  {
   "cell_type": "code",
   "execution_count": 5,
   "metadata": {
    "collapsed": true
   },
   "outputs": [],
   "source": [
    "def bottleneck1(rows, cols, k_size = 3):\n",
    "\n",
    "    inputs = Input((rows, cols, 1))\n",
    "    merge_axis = -1\n",
    "    conv1 = Conv2D(filters=32, kernel_size=k_size, padding='same', activation='relu')(inputs)\n",
    "    conv1 = Conv2D(filters=32, kernel_size=k_size, padding='same', activation='relu')(conv1)\n",
    "    pool1 = MaxPooling2D(pool_size=(2, 2))(conv1)\n",
    "\n",
    "    conv2 = Conv2D(filters=64, kernel_size=k_size, padding='same', activation='relu')(pool1)\n",
    "    conv2 = Conv2D(filters=64, kernel_size=k_size, padding='same', activation='relu')(conv2)\n",
    "    pool2 = MaxPooling2D(pool_size=(2, 2))(conv2)\n",
    "\n",
    "    conv3 = Conv2D(filters=64, kernel_size=k_size, padding='same', activation='relu')(pool2)\n",
    "    conv3 = Conv2D(filters=64, kernel_size=k_size, padding='same', activation='relu')(conv3)\n",
    "    pool3 = MaxPooling2D(pool_size=(2, 2))(conv3)\n",
    "    \n",
    "    output = pool3\n",
    "    model = Model(inputs, output)\n",
    "    return model"
   ]
  },
  {
   "cell_type": "code",
   "execution_count": 6,
   "metadata": {
    "collapsed": true
   },
   "outputs": [],
   "source": [
    "def bottleneck2(rows, cols, k_size = 3):\n",
    "    \n",
    "    inputs = Input((32, 32, 64))\n",
    "    merge_axis = -1\n",
    "    conv4 = Conv2D(filters=128, kernel_size=k_size, padding='same', activation='relu')(inputs)\n",
    "    conv4 = Conv2D(filters=128, kernel_size=k_size, padding='same', activation='relu')(conv4)\n",
    "    pool4 = MaxPooling2D(pool_size=(2, 2))(conv4)\n",
    "\n",
    "    conv5 = Conv2D(filters=256, kernel_size=k_size, padding='same', activation='relu')(pool4)\n",
    "\n",
    "    up1 = UpSampling2D(size=(2, 2))(conv5)\n",
    "    conv6 = Conv2D(filters=256, kernel_size=k_size, padding='same', activation='relu')(up1)\n",
    "    conv6 = Conv2D(filters=256, kernel_size=k_size, padding='same', activation='relu')(conv6)\n",
    "    merged1 = concatenate([conv4, conv6], axis=merge_axis)\n",
    "    conv6 = Conv2D(filters=256, kernel_size=k_size, padding='same', activation='relu')(merged1)\n",
    "\n",
    "    up2 = UpSampling2D(size=(2, 2))(conv6)\n",
    "    conv7 = Conv2D(filters=256, kernel_size=k_size, padding='same', activation='relu')(up2)\n",
    "    conv7 = Conv2D(filters=256, kernel_size=k_size, padding='same', activation='relu')(conv7)\n",
    "    #merged2 = concatenate([conv3, conv7], axis=merge_axis)\n",
    "    conv7 = Conv2D(filters=256, kernel_size=k_size, padding='same', activation='relu')(conv7)\n",
    "\n",
    "    up3 = UpSampling2D(size=(2, 2))(conv7)\n",
    "    conv8 = Conv2D(filters=128, kernel_size=k_size, padding='same', activation='relu')(up3)\n",
    "    conv8 = Conv2D(filters=128, kernel_size=k_size, padding='same', activation='relu')(conv8)\n",
    "    #merged3 = concatenate([conv2, conv8], axis=merge_axis)\n",
    "    conv8 = Conv2D(filters=128, kernel_size=k_size, padding='same', activation='relu')(conv8)\n",
    "\n",
    "    up4 = UpSampling2D(size=(2, 2))(conv8)\n",
    "    conv9 = Conv2D(filters=64, kernel_size=k_size, padding='same', activation='relu')(up4)\n",
    "    conv9 = Conv2D(filters=64, kernel_size=k_size, padding='same', activation='relu')(conv9)\n",
    "    #merged4 = concatenate([conv1, conv9], axis=merge_axis)\n",
    "    conv9 = Conv2D(filters=64, kernel_size=k_size, padding='same', activation='relu')(conv9)\n",
    "\n",
    "    conv10 = Conv2D(filters=1, kernel_size=k_size, padding='same', activation='sigmoid')(conv9)\n",
    "\n",
    "    output = conv10\n",
    "    model = Model(inputs, output)\n",
    "    model.compile(optimizer = Adam(lr = 1e-4), loss = 'binary_crossentropy', metrics = ['accuracy'])\n",
    "    \n",
    "    return model"
   ]
  },
  {
   "cell_type": "code",
   "execution_count": 7,
   "metadata": {
    "collapsed": true
   },
   "outputs": [],
   "source": [
    "def train(train_path, test_path, label_path, npy_path, rows, cols):\n",
    "    imgs_train = load_data(train_path, npy_path)\n",
    "    imgs_test = load_data(test_path, npy_path)\n",
    "    imgs_mask_train = load_data(label_path, npy_path, True)\n",
    "    model = get_model(rows, cols)\n",
    "\n",
    "    model_checkpoint = ModelCheckpoint('unet.hdf5', monitor='loss',verbose=1, save_best_only=True)\n",
    "    model.fit(imgs_train, imgs_mask_train, batch_size=4, nb_epoch=5, verbose=1,validation_split=0.2, shuffle=True, callbacks=[model_checkpoint])\n",
    "\n",
    "    imgs_mask_test = model.predict(imgs_test, batch_size=1, verbose=1)\n",
    "    save_results(imgs_mask_test)"
   ]
  },
  {
   "cell_type": "code",
   "execution_count": 41,
   "metadata": {
    "collapsed": true
   },
   "outputs": [],
   "source": [
    "def predict(test_path, npy_path, rows, cols):\n",
    "    imgs_test = load_data(test_path, npy_path)\n",
    "    model = build_UNet2D_4L(rows, cols)\n",
    "    model.load_weights('unet2.hdf5')\n",
    "    imgs_mask_test = model.predict(imgs_test, batch_size = 4, verbose=1)\n",
    "    save_results(imgs_mask_test)"
   ]
  },
  {
   "cell_type": "code",
   "execution_count": 43,
   "metadata": {
    "collapsed": true
   },
   "outputs": [],
   "source": [
    "def test(train_path, test_path, label_path, npy_path, rows, cols):\n",
    "    imgs_train = load_data(train_path, npy_path)\n",
    "    imgs_test = load_data(test_path, npy_path)\n",
    "    imgs_mask_train = load_data(label_path, npy_path, True)\n",
    "    \n",
    "    model = build_UNet2D_4L(rows, cols)\n",
    "    model.load_weights('trained_model.hdf5')\n",
    "    weights_list = model.get_weights()\n",
    "    \n",
    "    model_checkpoint = ModelCheckpoint('unet2.hdf5', monitor='loss',verbose=1, save_best_only=True)\n",
    "    model.fit(imgs_train, imgs_mask_train, batch_size=4, nb_epoch=10, verbose=1,validation_split=0.2, shuffle=True, callbacks=[model_checkpoint])\n",
    "    \n",
    "    imgs_mask_test = model.predict(imgs_test, batch_size = 4, verbose=1)\n",
    "    save_results(imgs_mask_test)   "
   ]
  },
  {
   "cell_type": "code",
   "execution_count": 35,
   "metadata": {
    "collapsed": true
   },
   "outputs": [],
   "source": [
    "def build_UNet2D_4L(rows, cols, k_size=3):\n",
    "    inputs = Input((rows, cols, 1))\n",
    "    merge_axis = -1 # Feature maps are concatenated along last axis (for tf backend)\n",
    "    conv1 = Conv2D(filters=32, kernel_size=k_size, padding='same', activation='relu', trainable=False)(inputs)\n",
    "    conv1 = Conv2D(filters=32, kernel_size=k_size, padding='same', activation='relu', trainable=False)(conv1)\n",
    "    pool1 = MaxPooling2D(pool_size=(2, 2))(conv1)\n",
    "\n",
    "    conv2 = Conv2D(filters=64, kernel_size=k_size, padding='same', activation='relu', trainable=False)(pool1)\n",
    "    conv2 = Conv2D(filters=64, kernel_size=k_size, padding='same', activation='relu', trainable=False)(conv2)\n",
    "    pool2 = MaxPooling2D(pool_size=(2, 2))(conv2)\n",
    "    \n",
    "    \"\"\"\"\"\" \"\"\"\"\"\" \"\"\"\"\"\" \"\"\"\"\"\" \"\"\"\"\"\" \"\"\"\"\"\"\"\"\"\"\"\" \"\"\"\"\"\" \"\"\"\"\"\" \"\"\"\"\"\" \"\"\"\"\"\" \"\"\"\"\"\"\"\"\"\"\"\" \"\"\"\"\"\" \"\"\"\"\"\" \"\"\"\"\"\" \"\"\"\"\"\" \"\"\"\"\"\"\n",
    "\n",
    "    conv3 = Conv2D(filters=64, kernel_size=k_size, padding='same', activation='relu')(pool2)\n",
    "    conv3 = Conv2D(filters=64, kernel_size=k_size, padding='same', activation='relu')(conv3)\n",
    "    pool3 = MaxPooling2D(pool_size=(2, 2))(conv3)\n",
    "    \n",
    "    \"\"\"\"\"\" \"\"\"\"\"\" \"\"\"\"\"\" \"\"\"\"\"\" \"\"\"\"\"\" \"\"\"\"\"\"\"\"\"\"\"\" \"\"\"\"\"\" \"\"\"\"\"\" \"\"\"\"\"\" \"\"\"\"\"\" \"\"\"\"\"\"\n",
    "\n",
    "    conv4 = Conv2D(filters=128, kernel_size=k_size, padding='same', activation='relu')(pool3)\n",
    "    conv4 = Conv2D(filters=128, kernel_size=k_size, padding='same', activation='relu')(conv4)\n",
    "    pool4 = MaxPooling2D(pool_size=(2, 2))(conv4)\n",
    "\n",
    "    conv5 = Conv2D(filters=256, kernel_size=k_size, padding='same', activation='relu')(pool4)\n",
    "\n",
    "    up1 = UpSampling2D(size=(2, 2))(conv5)\n",
    "    conv6 = Conv2D(filters=256, kernel_size=k_size, padding='same', activation='relu')(up1)\n",
    "    conv6 = Conv2D(filters=256, kernel_size=k_size, padding='same', activation='relu')(conv6)\n",
    "    merged1 = concatenate([conv4, conv6], axis=merge_axis)\n",
    "    conv6 = Conv2D(filters=256, kernel_size=k_size, padding='same', activation='relu')(merged1)\n",
    "    \n",
    "    \"\"\"\"\"\" \"\"\"\"\"\" \"\"\"\"\"\" \"\"\"\"\"\" \"\"\"\"\"\" \"\"\"\"\"\"\"\"\"\"\"\" \"\"\"\"\"\" \"\"\"\"\"\" \"\"\"\"\"\" \"\"\"\"\"\" \"\"\"\"\"\"\n",
    "\n",
    "    up2 = UpSampling2D(size=(2, 2))(conv6)\n",
    "    conv7 = Conv2D(filters=256, kernel_size=k_size, padding='same', activation='relu')(up2)\n",
    "    conv7 = Conv2D(filters=256, kernel_size=k_size, padding='same', activation='relu')(conv7)\n",
    "    merged2 = concatenate([conv3, conv7], axis=merge_axis)\n",
    "    conv7 = Conv2D(filters=256, kernel_size=k_size, padding='same', activation='relu')(merged2)\n",
    "    \n",
    "    \"\"\"\"\"\" \"\"\"\"\"\" \"\"\"\"\"\" \"\"\"\"\"\" \"\"\"\"\"\" \"\"\"\"\"\"\"\"\"\"\"\" \"\"\"\"\"\" \"\"\"\"\"\" \"\"\"\"\"\" \"\"\"\"\"\" \"\"\"\"\"\"\"\"\"\"\"\" \"\"\"\"\"\" \"\"\"\"\"\" \"\"\"\"\"\" \"\"\"\"\"\" \"\"\"\"\"\"\n",
    "\n",
    "    up3 = UpSampling2D(size=(2, 2))(conv7)\n",
    "    conv8 = Conv2D(filters=128, kernel_size=k_size, padding='same', activation='relu', trainable=False)(up3)\n",
    "    conv8 = Conv2D(filters=128, kernel_size=k_size, padding='same', activation='relu', trainable=False)(conv8)\n",
    "    merged3 = concatenate([conv2, conv8], axis=merge_axis)\n",
    "    conv8 = Conv2D(filters=128, kernel_size=k_size, padding='same', activation='relu', trainable=False)(merged3)\n",
    "\n",
    "    up4 = UpSampling2D(size=(2, 2))(conv8)\n",
    "    conv9 = Conv2D(filters=64, kernel_size=k_size, padding='same', activation='relu', trainable=False)(up4)\n",
    "    conv9 = Conv2D(filters=64, kernel_size=k_size, padding='same', activation='relu', trainable=False)(conv9)\n",
    "    merged4 = concatenate([conv1, conv9], axis=merge_axis)\n",
    "    conv9 = Conv2D(filters=64, kernel_size=k_size, padding='same', activation='relu', trainable=False)(merged4)\n",
    "\n",
    "    conv10 = Conv2D(filters=1, kernel_size=k_size, padding='same', activation='sigmoid', trainable=False)(conv9)\n",
    "\n",
    "    output = conv10\n",
    "    model = Model(inputs, output)\n",
    "    model.compile(optimizer = Adam(lr = 1e-4), loss = 'binary_crossentropy', metrics = ['accuracy'])\n",
    "    return model"
   ]
  },
  {
   "cell_type": "code",
   "execution_count": null,
   "metadata": {},
   "outputs": [
    {
     "name": "stderr",
     "output_type": "stream",
     "text": [
      "C:\\Users\\artem.eprev\\AppData\\Local\\Continuum\\anaconda3\\lib\\site-packages\\ipykernel_launcher.py:11: UserWarning: The `nb_epoch` argument in `fit` has been renamed `epochs`.\n",
      "  # This is added back by InteractiveShellApp.init_path()\n"
     ]
    },
    {
     "name": "stdout",
     "output_type": "stream",
     "text": [
      "Train on 115 samples, validate on 29 samples\n",
      "Epoch 1/10\n",
      "115/115 [==============================] - 303s 3s/step - loss: 0.5979 - acc: 0.8660 - val_loss: 0.1003 - val_acc: 0.9672\n",
      "\n",
      "Epoch 00001: loss improved from inf to 0.59790, saving model to unet2.hdf5\n",
      "Epoch 2/10\n",
      "115/115 [==============================] - 300s 3s/step - loss: 0.2681 - acc: 0.9123 - val_loss: 0.0839 - val_acc: 0.9705\n",
      "\n",
      "Epoch 00002: loss improved from 0.59790 to 0.26814, saving model to unet2.hdf5\n",
      "Epoch 3/10\n",
      "115/115 [==============================] - 292s 3s/step - loss: 0.1483 - acc: 0.9454 - val_loss: 0.0871 - val_acc: 0.9699\n",
      "\n",
      "Epoch 00003: loss improved from 0.26814 to 0.14827, saving model to unet2.hdf5\n",
      "Epoch 4/10\n",
      "115/115 [==============================] - 289s 3s/step - loss: 0.1143 - acc: 0.9582 - val_loss: 0.0891 - val_acc: 0.9705\n",
      "\n",
      "Epoch 00004: loss improved from 0.14827 to 0.11429, saving model to unet2.hdf5\n",
      "Epoch 5/10\n",
      "115/115 [==============================] - 288s 3s/step - loss: 0.0959 - acc: 0.9643 - val_loss: 0.0915 - val_acc: 0.9710\n",
      "\n",
      "Epoch 00005: loss improved from 0.11429 to 0.09588, saving model to unet2.hdf5\n",
      "Epoch 6/10\n",
      "115/115 [==============================] - 289s 3s/step - loss: 0.0815 - acc: 0.9691 - val_loss: 0.0944 - val_acc: 0.9720\n",
      "\n",
      "Epoch 00006: loss improved from 0.09588 to 0.08155, saving model to unet2.hdf5\n",
      "Epoch 7/10\n",
      "115/115 [==============================] - 289s 3s/step - loss: 0.0703 - acc: 0.9726 - val_loss: 0.1035 - val_acc: 0.9718\n",
      "\n",
      "Epoch 00007: loss improved from 0.08155 to 0.07026, saving model to unet2.hdf5\n",
      "Epoch 8/10\n",
      "115/115 [==============================] - 289s 3s/step - loss: 0.0609 - acc: 0.9758 - val_loss: 0.1035 - val_acc: 0.9732\n",
      "\n",
      "Epoch 00008: loss improved from 0.07026 to 0.06087, saving model to unet2.hdf5\n",
      "Epoch 9/10\n",
      "115/115 [==============================] - 293s 3s/step - loss: 0.0530 - acc: 0.9784 - val_loss: 0.1127 - val_acc: 0.9726\n",
      "\n",
      "Epoch 00009: loss improved from 0.06087 to 0.05303, saving model to unet2.hdf5\n",
      "Epoch 10/10\n",
      "104/115 [==========================>...] - ETA: 25s - loss: 0.0461 - acc: 0.9808"
     ]
    }
   ],
   "source": [
    "test(train_path, test_path, label_path, npy_path, rows, cols)"
   ]
  },
  {
   "cell_type": "code",
   "execution_count": 37,
   "metadata": {
    "collapsed": true
   },
   "outputs": [],
   "source": [
    "def save_results(imgs):\n",
    "    i = 1\n",
    "    for img in imgs:\n",
    "            img = array_to_img(img)\n",
    "            img.save(\"data\\\\results\\\\%d.jpg\"%(i))   \n",
    "            i += 1"
   ]
  },
  {
   "cell_type": "markdown",
   "metadata": {},
   "source": [
    "# Main"
   ]
  },
  {
   "cell_type": "code",
   "execution_count": 39,
   "metadata": {},
   "outputs": [
    {
     "name": "stdout",
     "output_type": "stream",
     "text": [
      "Done: 0/144 images\n",
      "Done: 10/144 images\n",
      "Done: 20/144 images\n",
      "Done: 30/144 images\n",
      "Done: 40/144 images\n",
      "Done: 50/144 images\n",
      "Done: 60/144 images\n",
      "Done: 70/144 images\n",
      "Done: 80/144 images\n",
      "Done: 90/144 images\n",
      "Done: 100/144 images\n",
      "Done: 110/144 images\n",
      "Done: 120/144 images\n",
      "Done: 130/144 images\n",
      "Done: 140/144 images\n",
      "Created.\n",
      "Saving to .npy files done.\n",
      "Done: 0/144 images\n",
      "Done: 10/144 images\n",
      "Done: 20/144 images\n",
      "Done: 30/144 images\n",
      "Done: 40/144 images\n",
      "Done: 50/144 images\n",
      "Done: 60/144 images\n",
      "Done: 70/144 images\n",
      "Done: 80/144 images\n",
      "Done: 90/144 images\n",
      "Done: 100/144 images\n",
      "Done: 110/144 images\n",
      "Done: 120/144 images\n",
      "Done: 130/144 images\n",
      "Done: 140/144 images\n",
      "Created.\n",
      "Saving to .npy files done.\n",
      "Done: 0/5 images\n",
      "Created.\n",
      "Saving to .npy files done.\n"
     ]
    }
   ],
   "source": [
    "create_data(train_path, npy_path, rows, cols)\n",
    "create_data(label_path, npy_path, rows, cols)\n",
    "create_data(test_path, npy_path, rows, cols)"
   ]
  },
  {
   "cell_type": "code",
   "execution_count": null,
   "metadata": {
    "collapsed": true,
    "scrolled": true
   },
   "outputs": [],
   "source": [
    "train(train_path, test_path, label_path, npy_path, rows, cols)"
   ]
  },
  {
   "cell_type": "code",
   "execution_count": 42,
   "metadata": {},
   "outputs": [
    {
     "name": "stdout",
     "output_type": "stream",
     "text": [
      "5/5 [==============================] - 5s 1s/step\n"
     ]
    }
   ],
   "source": [
    "predict(test_path, npy_path, rows, cols)"
   ]
  }
 ],
 "metadata": {
  "kernelspec": {
   "display_name": "Python 3",
   "language": "python",
   "name": "python3"
  },
  "language_info": {
   "codemirror_mode": {
    "name": "ipython",
    "version": 3
   },
   "file_extension": ".py",
   "mimetype": "text/x-python",
   "name": "python",
   "nbconvert_exporter": "python",
   "pygments_lexer": "ipython3",
   "version": "3.6.3"
  }
 },
 "nbformat": 4,
 "nbformat_minor": 2
}
