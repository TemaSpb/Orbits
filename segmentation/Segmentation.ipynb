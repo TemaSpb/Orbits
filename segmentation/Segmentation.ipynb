{
 "cells": [
  {
   "cell_type": "code",
   "execution_count": 53,
   "metadata": {},
   "outputs": [],
   "source": [
    "import matplotlib.pyplot as plt\n",
    "import numpy as np \n",
    "import glob\n",
    "import scipy\n",
    "\n",
    "from skimage.segmentation import felzenszwalb, slic, quickshift, watershed\n",
    "from keras.preprocessing.image import array_to_img, img_to_array, load_img\n",
    "from keras.models import *\n",
    "from keras.layers.merge import concatenate\n",
    "from keras.layers import Input, merge, Conv2D, MaxPooling2D, UpSampling2D, Dropout, Cropping2D\n",
    "from keras.optimizers import *\n",
    "from keras.callbacks import ModelCheckpoint, LearningRateScheduler\n",
    "from keras import backend as keras"
   ]
  },
  {
   "cell_type": "markdown",
   "metadata": {},
   "source": [
    "# Data processing"
   ]
  },
  {
   "cell_type": "code",
   "execution_count": 79,
   "metadata": {
    "collapsed": true
   },
   "outputs": [],
   "source": [
    "# make config\n",
    "rows = 128\n",
    "cols = 256\n",
    "train_path = \"train\"\n",
    "label_path = \"label\"\n",
    "img_type = \"jpg\"\n",
    "test_path = \"test\"\n",
    "npy_path = \"npydata\""
   ]
  },
  {
   "cell_type": "code",
   "execution_count": 80,
   "metadata": {
    "collapsed": true
   },
   "outputs": [],
   "source": [
    "# make config\n",
    "\n",
    "rows = 64\n",
    "cols = 192\n",
    "train_path = \"train1\"\n",
    "label_path = \"label1\"\n",
    "img_type = \"jpg\"\n",
    "test_path = \"test1\"\n",
    "npy_path = \"npydata\""
   ]
  },
  {
   "cell_type": "code",
   "execution_count": 46,
   "metadata": {
    "collapsed": true
   },
   "outputs": [],
   "source": [
    "def create_data(data_path, npy_path, rows, cols):   \n",
    "    imgs = glob.glob(\"data\\\\\" + data_path + \"\\\\*.\" + img_type)\n",
    "    i = 0\n",
    "    img_count = len(imgs)\n",
    "    imgs_data = np.ndarray((img_count, rows, cols, 1), dtype=np.uint8)\n",
    "    for img_full_name in imgs:\n",
    "        img_name = img_full_name[img_full_name.rindex(\"\\\\\") + 1:]\n",
    "        # test\n",
    "        img = load_img(\"data\\\\\" + data_path + \"\\\\\" + img_name, grayscale = True)\n",
    "        img = img_to_array(img)\n",
    "        imgs_data[i] = img\n",
    "        if i % 10 == 0:\n",
    "            print('Done: {0}/{1} images'.format(i, img_count))\n",
    "        i += 1\n",
    "    print('Created.')\n",
    "    np.save(\"data\\\\\" + npy_path + '\\\\imgs_' + data_path + '.npy', imgs_data)\n",
    "    print('Saving to .npy files done.')"
   ]
  },
  {
   "cell_type": "code",
   "execution_count": 74,
   "metadata": {
    "collapsed": true
   },
   "outputs": [],
   "source": [
    "def load_data(data_path, npy_path, process_colors = False):\n",
    "    imgs = np.load(\"data\\\\\" + npy_path + '\\\\imgs_' + data_path + '.npy')\n",
    "    imgs = imgs.astype('float32')\n",
    "    imgs /= 255\n",
    "    \n",
    "    imgs /= np.max(np.abs(imgs))\n",
    "\n",
    "    if (process_colors):\n",
    "        imgs[imgs > 0.5] = 1\n",
    "        imgs[imgs <= 0.5] = 0\n",
    "    return imgs"
   ]
  },
  {
   "cell_type": "markdown",
   "metadata": {},
   "source": [
    "# U-net"
   ]
  },
  {
   "cell_type": "code",
   "execution_count": 5,
   "metadata": {
    "collapsed": true
   },
   "outputs": [],
   "source": [
    "def bottleneck1(rows, cols, k_size = 3):\n",
    "\n",
    "    inputs = Input((rows, cols, 1))\n",
    "    merge_axis = -1\n",
    "    conv1 = Conv2D(filters=32, kernel_size=k_size, padding='same', activation='relu')(inputs)\n",
    "    conv1 = Conv2D(filters=32, kernel_size=k_size, padding='same', activation='relu')(conv1)\n",
    "    pool1 = MaxPooling2D(pool_size=(2, 2))(conv1)\n",
    "\n",
    "    conv2 = Conv2D(filters=64, kernel_size=k_size, padding='same', activation='relu')(pool1)\n",
    "    conv2 = Conv2D(filters=64, kernel_size=k_size, padding='same', activation='relu')(conv2)\n",
    "    pool2 = MaxPooling2D(pool_size=(2, 2))(conv2)\n",
    "\n",
    "    conv3 = Conv2D(filters=64, kernel_size=k_size, padding='same', activation='relu')(pool2)\n",
    "    conv3 = Conv2D(filters=64, kernel_size=k_size, padding='same', activation='relu')(conv3)\n",
    "    pool3 = MaxPooling2D(pool_size=(2, 2))(conv3)\n",
    "    \n",
    "    output = pool3\n",
    "    model = Model(inputs, output)\n",
    "    return model"
   ]
  },
  {
   "cell_type": "code",
   "execution_count": 20,
   "metadata": {
    "collapsed": true
   },
   "outputs": [],
   "source": [
    "def bottleneck2(rows, cols, k_size = 3):\n",
    "    \n",
    "    inputs = Input((32, 32, 64))\n",
    "    merge_axis = -1\n",
    "    conv4 = Conv2D(filters=128, kernel_size=k_size, padding='same', activation='relu')(inputs)\n",
    "    conv4 = Conv2D(filters=128, kernel_size=k_size, padding='same', activation='relu')(conv4)\n",
    "    pool4 = MaxPooling2D(pool_size=(2, 2))(conv4)\n",
    "\n",
    "    conv5 = Conv2D(filters=256, kernel_size=k_size, padding='same', activation='relu')(pool4)\n",
    "\n",
    "    up1 = UpSampling2D(size=(2, 2))(conv5)\n",
    "    conv6 = Conv2D(filters=256, kernel_size=k_size, padding='same', activation='relu')(up1)\n",
    "    conv6 = Conv2D(filters=256, kernel_size=k_size, padding='same', activation='relu')(conv6)\n",
    "    merged1 = concatenate([conv4, conv6], axis=merge_axis)\n",
    "    conv6 = Conv2D(filters=256, kernel_size=k_size, padding='same', activation='relu')(merged1)\n",
    "\n",
    "    up2 = UpSampling2D(size=(2, 2))(conv6)\n",
    "    conv7 = Conv2D(filters=256, kernel_size=k_size, padding='same', activation='relu')(up2)\n",
    "    conv7 = Conv2D(filters=256, kernel_size=k_size, padding='same', activation='relu')(conv7)\n",
    "    merged2 = concatenate([conv3, conv7], axis=merge_axis)\n",
    "    conv7 = Conv2D(filters=256, kernel_size=k_size, padding='same', activation='relu')(conv7)\n",
    "\n",
    "    up3 = UpSampling2D(size=(2, 2))(conv7)\n",
    "    conv8 = Conv2D(filters=128, kernel_size=k_size, padding='same', activation='relu')(up3)\n",
    "    conv8 = Conv2D(filters=128, kernel_size=k_size, padding='same', activation='relu')(conv8)\n",
    "    merged3 = concatenate([conv2, conv8], axis=merge_axis)\n",
    "    conv8 = Conv2D(filters=128, kernel_size=k_size, padding='same', activation='relu')(conv8)\n",
    "\n",
    "    up4 = UpSampling2D(size=(2, 2))(conv8)\n",
    "    conv9 = Conv2D(filters=64, kernel_size=k_size, padding='same', activation='relu')(up4)\n",
    "    conv9 = Conv2D(filters=64, kernel_size=k_size, padding='same', activation='relu')(conv9)\n",
    "    merged4 = concatenate([conv1, conv9], axis=merge_axis)\n",
    "    conv9 = Conv2D(filters=64, kernel_size=k_size, padding='same', activation='relu')(conv9)\n",
    "\n",
    "    conv10 = Conv2D(filters=1, kernel_size=k_size, padding='same', activation='sigmoid')(conv9)\n",
    "\n",
    "    output = conv10\n",
    "    model = Model(inputs, output)\n",
    "    model.compile(optimizer = Adam(lr = 1e-4), loss = 'binary_crossentropy', metrics = ['accuracy'])\n",
    "    \n",
    "    return model"
   ]
  },
  {
   "cell_type": "code",
   "execution_count": 33,
   "metadata": {
    "collapsed": true
   },
   "outputs": [],
   "source": [
    "def train(train_path, test_path, label_path, npy_path, rows, cols):\n",
    "    imgs_train = load_data(train_path, npy_path)\n",
    "    imgs_test = load_data(test_path, npy_path)\n",
    "    imgs_mask_train = load_data(label_path, npy_path, True)\n",
    "    model = get_model(rows, cols)\n",
    "\n",
    "    model_checkpoint = ModelCheckpoint('unet.hdf5', monitor='loss',verbose=1, save_best_only=True)\n",
    "    model.fit(imgs_train, imgs_mask_train, batch_size=4, nb_epoch=2, verbose=1,validation_split=0.2, shuffle=True, callbacks=[model_checkpoint])\n",
    "\n",
    "    imgs_mask_test = model.predict(imgs_test, batch_size=1, verbose=1)\n",
    "    save_results(imgs_mask_test)"
   ]
  },
  {
   "cell_type": "code",
   "execution_count": 16,
   "metadata": {
    "collapsed": true
   },
   "outputs": [],
   "source": [
    "def predict(test_path, npy_path, rows, cols):\n",
    "    imgs_test = load_data(test_path, npy_path)\n",
    "    model = build_UNet2D_4L(rows, cols)\n",
    "    model.load_weights('weights.hdf5')\n",
    "    imgs_mask_test = model.predict(imgs_test, batch_size = 4, verbose=1)\n",
    "    save_results(imgs_mask_test)"
   ]
  },
  {
   "cell_type": "code",
   "execution_count": 83,
   "metadata": {
    "collapsed": true
   },
   "outputs": [],
   "source": [
    "def test(train_path, test_path, label_path, npy_path, rows, cols):\n",
    "    imgs_train = load_data(train_path, npy_path)\n",
    "    imgs_test = load_data(test_path, npy_path)\n",
    "    imgs_mask_train = load_data(label_path, npy_path, True)\n",
    "    \n",
    "    model = build_UNet2D_4L(rows, cols)\n",
    "    model.load_weights('trained_model.hdf5')\n",
    "    weights_list = model.get_weights()\n",
    "    \n",
    "    model_checkpoint = ModelCheckpoint('weights.hdf5', monitor='loss',verbose=1, save_best_only=True)\n",
    "    model.fit(imgs_train, imgs_mask_train, batch_size=4, nb_epoch=5, verbose=1, validation_split=0.2, callbacks=[model_checkpoint])\n",
    "    \n",
    "    imgs_mask_test = model.predict(imgs_test, batch_size = 4, verbose=1)\n",
    "    save_results(imgs_mask_test)   "
   ]
  },
  {
   "cell_type": "code",
   "execution_count": 82,
   "metadata": {
    "collapsed": true
   },
   "outputs": [],
   "source": [
    "def build_UNet2D_4L(rows, cols, k_size=3):\n",
    "    inputs = Input((rows, cols, 1))\n",
    "    merge_axis = -1 # Feature maps are concatenated along last axis (for tf backend)\n",
    "    conv1 = Conv2D(filters=32, kernel_size=k_size, padding='same', activation='relu', trainable=False)(inputs)\n",
    "    conv1 = Conv2D(filters=32, kernel_size=k_size, padding='same', activation='relu', trainable=False)(conv1)\n",
    "    pool1 = MaxPooling2D(pool_size=(2, 2))(conv1)\n",
    "\n",
    "    conv2 = Conv2D(filters=64, kernel_size=k_size, padding='same', activation='relu', trainable=False)(pool1)\n",
    "    conv2 = Conv2D(filters=64, kernel_size=k_size, padding='same', activation='relu', trainable=False)(conv2)\n",
    "    pool2 = MaxPooling2D(pool_size=(2, 2))(conv2)\n",
    "    \n",
    "    \"\"\"\"\"\" \"\"\"\"\"\" \"\"\"\"\"\" \"\"\"\"\"\" \"\"\"\"\"\" \"\"\"\"\"\"\"\"\"\"\"\" \"\"\"\"\"\" \"\"\"\"\"\" \"\"\"\"\"\" \"\"\"\"\"\" \"\"\"\"\"\"\"\"\"\"\"\" \"\"\"\"\"\" \"\"\"\"\"\" \"\"\"\"\"\" \"\"\"\"\"\" \"\"\"\"\"\"\n",
    "\n",
    "    conv3 = Conv2D(filters=64, kernel_size=k_size, padding='same', activation='relu')(pool2)\n",
    "    conv3 = Conv2D(filters=64, kernel_size=k_size, padding='same', activation='relu')(conv3)\n",
    "    pool3 = MaxPooling2D(pool_size=(2, 2))(conv3)\n",
    "    \n",
    "    \"\"\"\"\"\" \"\"\"\"\"\" \"\"\"\"\"\" \"\"\"\"\"\" \"\"\"\"\"\" \"\"\"\"\"\"\"\"\"\"\"\" \"\"\"\"\"\" \"\"\"\"\"\" \"\"\"\"\"\" \"\"\"\"\"\" \"\"\"\"\"\"\n",
    "\n",
    "    conv4 = Conv2D(filters=128, kernel_size=k_size, padding='same', activation='relu')(pool3)\n",
    "    conv4 = Conv2D(filters=128, kernel_size=k_size, padding='same', activation='relu')(conv4)\n",
    "    pool4 = MaxPooling2D(pool_size=(2, 2))(conv4)\n",
    "\n",
    "    conv5 = Conv2D(filters=256, kernel_size=k_size, padding='same', activation='relu')(pool4)\n",
    "\n",
    "    up1 = UpSampling2D(size=(2, 2))(conv5)\n",
    "    conv6 = Conv2D(filters=256, kernel_size=k_size, padding='same', activation='relu')(up1)\n",
    "    conv6 = Conv2D(filters=256, kernel_size=k_size, padding='same', activation='relu')(conv6)\n",
    "    merged1 = concatenate([conv4, conv6], axis=merge_axis)\n",
    "    conv6 = Conv2D(filters=256, kernel_size=k_size, padding='same', activation='relu')(merged1)\n",
    "    \n",
    "    \"\"\"\"\"\" \"\"\"\"\"\" \"\"\"\"\"\" \"\"\"\"\"\" \"\"\"\"\"\" \"\"\"\"\"\"\"\"\"\"\"\" \"\"\"\"\"\" \"\"\"\"\"\" \"\"\"\"\"\" \"\"\"\"\"\" \"\"\"\"\"\"\n",
    "\n",
    "    up2 = UpSampling2D(size=(2, 2))(conv6)\n",
    "    conv7 = Conv2D(filters=256, kernel_size=k_size, padding='same', activation='relu')(up2)\n",
    "    conv7 = Conv2D(filters=256, kernel_size=k_size, padding='same', activation='relu')(conv7)\n",
    "    merged2 = concatenate([conv3, conv7], axis=merge_axis)\n",
    "    conv7 = Conv2D(filters=256, kernel_size=k_size, padding='same', activation='relu')(merged2)\n",
    "    \n",
    "    \"\"\"\"\"\" \"\"\"\"\"\" \"\"\"\"\"\" \"\"\"\"\"\" \"\"\"\"\"\" \"\"\"\"\"\"\"\"\"\"\"\" \"\"\"\"\"\" \"\"\"\"\"\" \"\"\"\"\"\" \"\"\"\"\"\" \"\"\"\"\"\"\"\"\"\"\"\" \"\"\"\"\"\" \"\"\"\"\"\" \"\"\"\"\"\" \"\"\"\"\"\" \"\"\"\"\"\"\n",
    "\n",
    "    up3 = UpSampling2D(size=(2, 2))(conv7)\n",
    "    conv8 = Conv2D(filters=128, kernel_size=k_size, padding='same', activation='relu', trainable=False)(up3)\n",
    "    conv8 = Conv2D(filters=128, kernel_size=k_size, padding='same', activation='relu', trainable=False)(conv8)\n",
    "    merged3 = concatenate([conv2, conv8], axis=merge_axis)\n",
    "    conv8 = Conv2D(filters=128, kernel_size=k_size, padding='same', activation='relu', trainable=False)(merged3)\n",
    "\n",
    "    up4 = UpSampling2D(size=(2, 2))(conv8)\n",
    "    conv9 = Conv2D(filters=64, kernel_size=k_size, padding='same', activation='relu', trainable=False)(up4)\n",
    "    conv9 = Conv2D(filters=64, kernel_size=k_size, padding='same', activation='relu', trainable=False)(conv9)\n",
    "    merged4 = concatenate([conv1, conv9], axis=merge_axis)\n",
    "    conv9 = Conv2D(filters=64, kernel_size=k_size, padding='same', activation='relu', trainable=False)(merged4)\n",
    "\n",
    "    conv10 = Conv2D(filters=1, kernel_size=k_size, padding='same', activation='sigmoid', trainable=False)(conv9)\n",
    "\n",
    "    output = conv10\n",
    "    model = Model(inputs, output)\n",
    "    model.compile(optimizer = Adam(lr = 1e-4), loss = 'binary_crossentropy', metrics = ['accuracy'])\n",
    "    return model"
   ]
  },
  {
   "cell_type": "code",
   "execution_count": 10,
   "metadata": {
    "collapsed": true
   },
   "outputs": [],
   "source": [
    "def build_UNet2D_4L(rows, cols, k_size=3):\n",
    "    inputs = Input((rows, cols, 1))\n",
    "    merge_axis = -1 # Feature maps are concatenated along last axis (for tf backend)\n",
    "    conv1 = Conv2D(filters=32, kernel_size=k_size, padding='same', activation='relu', trainable=False)(inputs)\n",
    "    conv1 = Conv2D(filters=32, kernel_size=k_size, padding='same', activation='relu', trainable=False)(conv1)\n",
    "    pool1 = MaxPooling2D(pool_size=(2, 2))(conv1)\n",
    "\n",
    "    conv2 = Conv2D(filters=64, kernel_size=k_size, padding='same', activation='relu', trainable=False)(pool1)\n",
    "    conv2 = Conv2D(filters=64, kernel_size=k_size, padding='same', activation='relu', trainable=False)(conv2)\n",
    "    pool2 = MaxPooling2D(pool_size=(2, 2))(conv2)\n",
    "    \n",
    "    \"\"\"\"\"\" \"\"\"\"\"\" \"\"\"\"\"\" \"\"\"\"\"\" \"\"\"\"\"\" \"\"\"\"\"\"\"\"\"\"\"\" \"\"\"\"\"\" \"\"\"\"\"\" \"\"\"\"\"\" \"\"\"\"\"\" \"\"\"\"\"\"\"\"\"\"\"\" \"\"\"\"\"\" \"\"\"\"\"\" \"\"\"\"\"\" \"\"\"\"\"\" \"\"\"\"\"\"\n",
    "\n",
    "    conv3 = Conv2D(filters=64, kernel_size=k_size, padding='same', activation='relu', trainable=False)(pool2)\n",
    "    conv3 = Conv2D(filters=64, kernel_size=k_size, padding='same', activation='relu', trainable=False)(conv3)\n",
    "    pool3 = MaxPooling2D(pool_size=(2, 2))(conv3)\n",
    "    \n",
    "    \"\"\"\"\"\" \"\"\"\"\"\" \"\"\"\"\"\" \"\"\"\"\"\" \"\"\"\"\"\" \"\"\"\"\"\"\"\"\"\"\"\" \"\"\"\"\"\" \"\"\"\"\"\" \"\"\"\"\"\" \"\"\"\"\"\" \"\"\"\"\"\"\n",
    "\n",
    "    conv4 = Conv2D(filters=128, kernel_size=k_size, padding='same', activation='relu')(pool3)\n",
    "    conv4 = Conv2D(filters=128, kernel_size=k_size, padding='same', activation='relu')(conv4)\n",
    "    pool4 = MaxPooling2D(pool_size=(2, 2))(conv4)\n",
    "\n",
    "    conv5 = Conv2D(filters=256, kernel_size=k_size, padding='same', activation='relu')(pool4)\n",
    "\n",
    "    up1 = UpSampling2D(size=(2, 2))(conv5)\n",
    "    conv6 = Conv2D(filters=256, kernel_size=k_size, padding='same', activation='relu')(up1)\n",
    "    conv6 = Conv2D(filters=256, kernel_size=k_size, padding='same', activation='relu')(conv6)\n",
    "    merged1 = concatenate([conv4, conv6], axis=merge_axis)\n",
    "    conv6 = Conv2D(filters=256, kernel_size=k_size, padding='same', activation='relu')(merged1)\n",
    "    \n",
    "    \"\"\"\"\"\" \"\"\"\"\"\" \"\"\"\"\"\" \"\"\"\"\"\" \"\"\"\"\"\" \"\"\"\"\"\"\"\"\"\"\"\" \"\"\"\"\"\" \"\"\"\"\"\" \"\"\"\"\"\" \"\"\"\"\"\" \"\"\"\"\"\"\n",
    "\n",
    "    up2 = UpSampling2D(size=(2, 2))(conv6)\n",
    "    conv7 = Conv2D(filters=256, kernel_size=k_size, padding='same', activation='relu', trainable=False)(up2)\n",
    "    conv7 = Conv2D(filters=256, kernel_size=k_size, padding='same', activation='relu', trainable=False)(conv7)\n",
    "    merged2 = concatenate([conv3, conv7], axis=merge_axis)\n",
    "    conv7 = Conv2D(filters=256, kernel_size=k_size, padding='same', activation='relu', trainable=False)(merged2)\n",
    "    \n",
    "    \"\"\"\"\"\" \"\"\"\"\"\" \"\"\"\"\"\" \"\"\"\"\"\" \"\"\"\"\"\" \"\"\"\"\"\"\"\"\"\"\"\" \"\"\"\"\"\" \"\"\"\"\"\" \"\"\"\"\"\" \"\"\"\"\"\" \"\"\"\"\"\"\"\"\"\"\"\" \"\"\"\"\"\" \"\"\"\"\"\" \"\"\"\"\"\" \"\"\"\"\"\" \"\"\"\"\"\"\n",
    "\n",
    "    up3 = UpSampling2D(size=(2, 2))(conv7)\n",
    "    conv8 = Conv2D(filters=128, kernel_size=k_size, padding='same', activation='relu', trainable=False)(up3)\n",
    "    conv8 = Conv2D(filters=128, kernel_size=k_size, padding='same', activation='relu', trainable=False)(conv8)\n",
    "    merged3 = concatenate([conv2, conv8], axis=merge_axis)\n",
    "    conv8 = Conv2D(filters=128, kernel_size=k_size, padding='same', activation='relu', trainable=False)(merged3)\n",
    "\n",
    "    up4 = UpSampling2D(size=(2, 2))(conv8)\n",
    "    conv9 = Conv2D(filters=64, kernel_size=k_size, padding='same', activation='relu', trainable=False)(up4)\n",
    "    conv9 = Conv2D(filters=64, kernel_size=k_size, padding='same', activation='relu', trainable=False)(conv9)\n",
    "    merged4 = concatenate([conv1, conv9], axis=merge_axis)\n",
    "    conv9 = Conv2D(filters=64, kernel_size=k_size, padding='same', activation='relu', trainable=False)(merged4)\n",
    "\n",
    "    conv10 = Conv2D(filters=1, kernel_size=k_size, padding='same', activation='sigmoid', trainable=False)(conv9)\n",
    "\n",
    "    output = conv10\n",
    "    model = Model(inputs, output)\n",
    "    model.compile(optimizer = Adam(lr = 1e-4), loss = 'binary_crossentropy', metrics = ['accuracy'])\n",
    "    return model"
   ]
  },
  {
   "cell_type": "code",
   "execution_count": 23,
   "metadata": {
    "collapsed": true
   },
   "outputs": [],
   "source": [
    "def get_model(rows, cols, k_size=3):\n",
    "    inputs = Input((rows, cols, 1))\n",
    "    merge_axis = -1 # Feature maps are concatenated along last axis (for tf backend)\n",
    "    conv1 = Conv2D(filters=32, kernel_size=k_size, padding='same', activation='relu')(inputs)\n",
    "    conv1 = Conv2D(filters=32, kernel_size=k_size, padding='same', activation='relu')(conv1)\n",
    "    pool1 = MaxPooling2D(pool_size=(2, 2))(conv1)\n",
    "\n",
    "    conv2 = Conv2D(filters=64, kernel_size=k_size, padding='same', activation='relu')(pool1)\n",
    "    conv2 = Conv2D(filters=64, kernel_size=k_size, padding='same', activation='relu')(conv2)\n",
    "    pool2 = MaxPooling2D(pool_size=(2, 2))(conv2)\n",
    "    \n",
    "    \"\"\"\"\"\" \"\"\"\"\"\" \"\"\"\"\"\" \"\"\"\"\"\" \"\"\"\"\"\" \"\"\"\"\"\"\"\"\"\"\"\" \"\"\"\"\"\" \"\"\"\"\"\" \"\"\"\"\"\" \"\"\"\"\"\" \"\"\"\"\"\"\"\"\"\"\"\" \"\"\"\"\"\" \"\"\"\"\"\" \"\"\"\"\"\" \"\"\"\"\"\" \"\"\"\"\"\"\n",
    "\n",
    "    conv3 = Conv2D(filters=64, kernel_size=k_size, padding='same', activation='relu')(pool2)\n",
    "    conv3 = Conv2D(filters=64, kernel_size=k_size, padding='same', activation='relu')(conv3)\n",
    "    pool3 = MaxPooling2D(pool_size=(2, 2))(conv3)\n",
    "    \n",
    "    \"\"\"\"\"\" \"\"\"\"\"\" \"\"\"\"\"\" \"\"\"\"\"\" \"\"\"\"\"\" \"\"\"\"\"\"\"\"\"\"\"\" \"\"\"\"\"\" \"\"\"\"\"\" \"\"\"\"\"\" \"\"\"\"\"\" \"\"\"\"\"\"\n",
    "\n",
    "    conv4 = Conv2D(filters=128, kernel_size=k_size, padding='same', activation='relu')(pool3)\n",
    "    conv4 = Conv2D(filters=128, kernel_size=k_size, padding='same', activation='relu')(conv4)\n",
    "    pool4 = MaxPooling2D(pool_size=(2, 2))(conv4)\n",
    "\n",
    "    conv5 = Conv2D(filters=256, kernel_size=k_size, padding='same', activation='relu')(pool4)\n",
    "\n",
    "    up1 = UpSampling2D(size=(2, 2))(conv5)\n",
    "    conv6 = Conv2D(filters=256, kernel_size=k_size, padding='same', activation='relu')(up1)\n",
    "    conv6 = Conv2D(filters=256, kernel_size=k_size, padding='same', activation='relu')(conv6)\n",
    "    merged1 = concatenate([conv4, conv6], axis=merge_axis)\n",
    "    conv6 = Conv2D(filters=256, kernel_size=k_size, padding='same', activation='relu')(merged1)\n",
    "    \n",
    "    \"\"\"\"\"\" \"\"\"\"\"\" \"\"\"\"\"\" \"\"\"\"\"\" \"\"\"\"\"\" \"\"\"\"\"\"\"\"\"\"\"\" \"\"\"\"\"\" \"\"\"\"\"\" \"\"\"\"\"\" \"\"\"\"\"\" \"\"\"\"\"\"\n",
    "\n",
    "    up2 = UpSampling2D(size=(2, 2))(conv6)\n",
    "    conv7 = Conv2D(filters=256, kernel_size=k_size, padding='same', activation='relu')(up2)\n",
    "    conv7 = Conv2D(filters=256, kernel_size=k_size, padding='same', activation='relu')(conv7)\n",
    "    merged2 = concatenate([conv3, conv7], axis=merge_axis)\n",
    "    conv7 = Conv2D(filters=256, kernel_size=k_size, padding='same', activation='relu')(merged2)\n",
    "    \n",
    "    \"\"\"\"\"\" \"\"\"\"\"\" \"\"\"\"\"\" \"\"\"\"\"\" \"\"\"\"\"\" \"\"\"\"\"\"\"\"\"\"\"\" \"\"\"\"\"\" \"\"\"\"\"\" \"\"\"\"\"\" \"\"\"\"\"\" \"\"\"\"\"\"\"\"\"\"\"\" \"\"\"\"\"\" \"\"\"\"\"\" \"\"\"\"\"\" \"\"\"\"\"\" \"\"\"\"\"\"\n",
    "\n",
    "    up3 = UpSampling2D(size=(2, 2))(conv7)\n",
    "    conv8 = Conv2D(filters=128, kernel_size=k_size, padding='same', activation='relu')(up3)\n",
    "    conv8 = Conv2D(filters=128, kernel_size=k_size, padding='same', activation='relu')(conv8)\n",
    "    merged3 = concatenate([conv2, conv8], axis=merge_axis)\n",
    "    conv8 = Conv2D(filters=128, kernel_size=k_size, padding='same', activation='relu')(merged3)\n",
    "\n",
    "    up4 = UpSampling2D(size=(2, 2))(conv8)\n",
    "    conv9 = Conv2D(filters=64, kernel_size=k_size, padding='same', activation='relu')(up4)\n",
    "    conv9 = Conv2D(filters=64, kernel_size=k_size, padding='same', activation='relu')(conv9)\n",
    "    merged4 = concatenate([conv1, conv9], axis=merge_axis)\n",
    "    conv9 = Conv2D(filters=64, kernel_size=k_size, padding='same', activation='relu')(merged4)\n",
    "\n",
    "    conv10 = Conv2D(filters=1, kernel_size=k_size, padding='same', activation='sigmoid')(conv9)\n",
    "\n",
    "    output = conv10\n",
    "    model = Model(inputs, output)\n",
    "    model.compile(optimizer = Adam(lr = 1e-4), loss = 'binary_crossentropy', metrics = ['accuracy'])\n",
    "    return model"
   ]
  },
  {
   "cell_type": "code",
   "execution_count": 84,
   "metadata": {},
   "outputs": [
    {
     "name": "stderr",
     "output_type": "stream",
     "text": [
      "C:\\Python\\lib\\site-packages\\ipykernel_launcher.py:11: UserWarning: The `nb_epoch` argument in `fit` has been renamed `epochs`.\n",
      "  # This is added back by InteractiveShellApp.init_path()\n"
     ]
    },
    {
     "name": "stdout",
     "output_type": "stream",
     "text": [
      "Train on 28 samples, validate on 7 samples\n",
      "Epoch 1/5\n",
      "28/28 [==============================] - 27s 949ms/step - loss: 0.0585 - acc: 0.9911 - val_loss: 0.0468 - val_acc: 0.9947\n",
      "\n",
      "Epoch 00001: loss improved from inf to 0.05846, saving model to weights.hdf5\n",
      "Epoch 2/5\n",
      "28/28 [==============================] - 25s 877ms/step - loss: 0.0498 - acc: 0.9937 - val_loss: 0.0454 - val_acc: 0.9948\n",
      "\n",
      "Epoch 00002: loss improved from 0.05846 to 0.04982, saving model to weights.hdf5\n",
      "Epoch 3/5\n",
      "28/28 [==============================] - 24s 847ms/step - loss: 0.0466 - acc: 0.9943 - val_loss: 0.0440 - val_acc: 0.9948\n",
      "\n",
      "Epoch 00003: loss improved from 0.04982 to 0.04661, saving model to weights.hdf5\n",
      "Epoch 4/5\n",
      "28/28 [==============================] - 26s 921ms/step - loss: 0.0440 - acc: 0.9943 - val_loss: 0.0427 - val_acc: 0.9949\n",
      "\n",
      "Epoch 00004: loss improved from 0.04661 to 0.04403, saving model to weights.hdf5\n",
      "Epoch 5/5\n",
      "28/28 [==============================] - 24s 870ms/step - loss: 0.0411 - acc: 0.9943 - val_loss: 0.0418 - val_acc: 0.9949\n",
      "\n",
      "Epoch 00005: loss improved from 0.04403 to 0.04108, saving model to weights.hdf5\n",
      "4/4 [==============================] - 2s 482ms/step\n"
     ]
    }
   ],
   "source": [
    "test(train_path, test_path, label_path, npy_path, rows, cols)"
   ]
  },
  {
   "cell_type": "code",
   "execution_count": 14,
   "metadata": {
    "collapsed": true
   },
   "outputs": [],
   "source": [
    "def save_results(imgs):\n",
    "    i = 1\n",
    "    for img in imgs:\n",
    "            img = array_to_img(img)\n",
    "            img.save(\"data\\\\results\\\\%d.jpg\"%(i))   \n",
    "            i += 1"
   ]
  },
  {
   "cell_type": "markdown",
   "metadata": {},
   "source": [
    "# Main"
   ]
  },
  {
   "cell_type": "code",
   "execution_count": 42,
   "metadata": {
    "scrolled": true
   },
   "outputs": [
    {
     "name": "stdout",
     "output_type": "stream",
     "text": [
      "Done: 0/140 images\n",
      "Done: 10/140 images\n",
      "Done: 20/140 images\n",
      "Done: 30/140 images\n",
      "Done: 40/140 images\n",
      "Done: 50/140 images\n",
      "Done: 60/140 images\n",
      "Done: 70/140 images\n",
      "Done: 80/140 images\n",
      "Done: 90/140 images\n",
      "Done: 100/140 images\n",
      "Done: 110/140 images\n",
      "Done: 120/140 images\n",
      "Done: 130/140 images\n",
      "Created.\n",
      "Saving to .npy files done.\n",
      "Done: 0/140 images\n",
      "Done: 10/140 images\n",
      "Done: 20/140 images\n",
      "Done: 30/140 images\n",
      "Done: 40/140 images\n",
      "Done: 50/140 images\n",
      "Done: 60/140 images\n",
      "Done: 70/140 images\n",
      "Done: 80/140 images\n",
      "Done: 90/140 images\n",
      "Done: 100/140 images\n",
      "Done: 110/140 images\n",
      "Done: 120/140 images\n",
      "Done: 130/140 images\n",
      "Created.\n",
      "Saving to .npy files done.\n",
      "Done: 0/4 images\n",
      "Created.\n",
      "Saving to .npy files done.\n"
     ]
    }
   ],
   "source": [
    "create_data(train_path, npy_path, rows, cols)\n",
    "create_data(label_path, npy_path, rows, cols)\n",
    "create_data(test_path, npy_path, rows, cols)"
   ]
  },
  {
   "cell_type": "code",
   "execution_count": 49,
   "metadata": {
    "collapsed": true
   },
   "outputs": [],
   "source": [
    "test = load_data(train_path,npy_path)"
   ]
  },
  {
   "cell_type": "code",
   "execution_count": 60,
   "metadata": {},
   "outputs": [
    {
     "data": {
      "text/plain": [
       "(35, 128, 256, 1)"
      ]
     },
     "execution_count": 60,
     "metadata": {},
     "output_type": "execute_result"
    }
   ],
   "source": [
    "test.shape"
   ]
  },
  {
   "cell_type": "code",
   "execution_count": 68,
   "metadata": {},
   "outputs": [
    {
     "data": {
      "text/plain": [
       "array([[0.02532469, 0.02532469, 0.02532469, ..., 0.        , 0.        ,\n",
       "        0.        ],\n",
       "       [0.02532469, 0.02532469, 0.02532469, ..., 0.        , 0.        ,\n",
       "        0.        ],\n",
       "       [0.02532469, 0.02532469, 0.02532469, ..., 0.        , 0.        ,\n",
       "        0.        ],\n",
       "       ...,\n",
       "       [0.682244  , 0.5208677 , 0.5208677 , ..., 0.62028587, 0.62028587,\n",
       "        0.62028587],\n",
       "       [0.682244  , 0.5208677 , 0.5208677 , ..., 0.62028587, 0.62028587,\n",
       "        0.62028587],\n",
       "       [0.682244  , 0.5208677 , 0.5208677 , ..., 0.62028587, 0.62028587,\n",
       "        0.62028587]], dtype=float32)"
      ]
     },
     "execution_count": 68,
     "metadata": {},
     "output_type": "execute_result"
    }
   ],
   "source": [
    "test[0][:,:,0]"
   ]
  },
  {
   "cell_type": "code",
   "execution_count": 71,
   "metadata": {},
   "outputs": [
    {
     "data": {
      "text/plain": [
       "<matplotlib.image.AxesImage at 0x29ed2d3de48>"
      ]
     },
     "execution_count": 71,
     "metadata": {},
     "output_type": "execute_result"
    },
    {
     "data": {
      "image/png": "[encoded data removed]",
      "text/plain": [
       "<matplotlib.figure.Figure at 0x29ed2ccaba8>"
      ]
     },
     "metadata": {},
     "output_type": "display_data"
    }
   ],
   "source": [
    "plt.imshow(test[1][:,:,0])"
   ]
  },
  {
   "cell_type": "code",
   "execution_count": 73,
   "metadata": {},
   "outputs": [
    {
     "data": {
      "text/plain": [
       "array([[0.        , 0.        , 0.        , ..., 0.        , 0.        ,\n",
       "        0.        ],\n",
       "       [0.        , 0.        , 0.        , ..., 0.        , 0.        ,\n",
       "        0.        ],\n",
       "       [0.        , 0.        , 0.        , ..., 0.        , 0.        ,\n",
       "        0.        ],\n",
       "       ...,\n",
       "       [0.00387555, 0.00387555, 0.00387555, ..., 0.00389615, 0.00389615,\n",
       "        0.00389615],\n",
       "       [0.00387555, 0.00387555, 0.00387555, ..., 0.00389615, 0.00389615,\n",
       "        0.00389615],\n",
       "       [0.00387555, 0.00387555, 0.00387555, ..., 0.00389615, 0.00389615,\n",
       "        0.00389615]], dtype=float32)"
      ]
     },
     "execution_count": 73,
     "metadata": {},
     "output_type": "execute_result"
    }
   ],
   "source": [
    "test[1][:,:,0]"
   ]
  },
  {
   "cell_type": "code",
   "execution_count": 70,
   "metadata": {
    "collapsed": true
   },
   "outputs": [],
   "source": [
    "test[1][:,:,0] /= np.max(np.abs(test[1][:,:,0]))"
   ]
  },
  {
   "cell_type": "code",
   "execution_count": null,
   "metadata": {
    "collapsed": true,
    "scrolled": true
   },
   "outputs": [],
   "source": [
    "train(train_path, test_path, label_path, npy_path, rows, cols)"
   ]
  },
  {
   "cell_type": "code",
   "execution_count": 17,
   "metadata": {},
   "outputs": [
    {
     "name": "stdout",
     "output_type": "stream",
     "text": [
      "\r",
      "4/4 [==============================] - 3s 762ms/step\n"
     ]
    }
   ],
   "source": [
    "predict(test_path, npy_path, rows, cols)"
   ]
  }
 ],
 "metadata": {
  "kernelspec": {
   "display_name": "Python 3",
   "language": "python",
   "name": "python3"
  },
  "language_info": {
   "codemirror_mode": {
    "name": "ipython",
    "version": 3
   },
   "file_extension": ".py",
   "mimetype": "text/x-python",
   "name": "python",
   "nbconvert_exporter": "python",
   "pygments_lexer": "ipython3",
   "version": "3.6.1"
  }
 },
 "nbformat": 4,
 "nbformat_minor": 2
}
