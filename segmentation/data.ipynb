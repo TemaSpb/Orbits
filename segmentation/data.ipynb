{
 "cells": [
  {
   "cell_type": "code",
   "execution_count": 1,
   "metadata": {},
   "outputs": [
    {
     "name": "stderr",
     "output_type": "stream",
     "text": [
      "C:\\Python\\lib\\site-packages\\h5py\\__init__.py:34: FutureWarning: Conversion of the second argument of issubdtype from `float` to `np.floating` is deprecated. In future, it will be treated as `np.float64 == np.dtype(float).type`.\n",
      "  from ._conv import register_converters as _register_converters\n",
      "Using TensorFlow backend.\n"
     ]
    }
   ],
   "source": [
    "from keras.preprocessing.image import array_to_img, img_to_array, load_img\n",
    "import numpy as np \n",
    "import glob"
   ]
  },
  {
   "cell_type": "markdown",
   "metadata": {},
   "source": [
    "# Data processing"
   ]
  },
  {
   "cell_type": "code",
   "execution_count": 3,
   "metadata": {
    "collapsed": true
   },
   "outputs": [],
   "source": [
    "# make config\n",
    "out_rows = 256\n",
    "out_cols = 256\n",
    "train_path = \"train\"\n",
    "label_path = \"label\"\n",
    "img_type = \"jpg\"\n",
    "test_path = \"test\"\n",
    "\"npydata\""
   ]
  },
  {
   "cell_type": "code",
   "execution_count": 4,
   "metadata": {
    "collapsed": true
   },
   "outputs": [],
   "source": [
    "def create_data(data_path):   \n",
    "    imgs = glob.glob(\"data\\\\\" + data_path + \"\\\\*.\" + img_type)\n",
    "    i = 0\n",
    "    img_count = len(imgs)\n",
    "    imgs_data = np.ndarray((img_count, out_rows, out_cols, 1), dtype=np.uint8)\n",
    "    for img_full_name in imgs:\n",
    "        img_name = img_full_name[img_full_name.rindex(\"\\\\\") + 1:]\n",
    "        # test\n",
    "        img = load_img(\"data\\\\\" + data_path + \"\\\\\" + img_name, grayscale = True)\n",
    "        img = img_to_array(img)\n",
    "        imgs_data[i] = img\n",
    "        if i % 10 == 0:\n",
    "            print('Done: {0}/{1} images'.format(i, img_count))\n",
    "        i += 1\n",
    "    print('Created.')\n",
    "    np.save(\"data\\\\\" + npy_path + '\\\\imgs_' + data_path + '.npy', imgs_data)\n",
    "    print('Saving to .npy files done.')"
   ]
  },
  {
   "cell_type": "code",
   "execution_count": 5,
   "metadata": {
    "collapsed": true
   },
   "outputs": [],
   "source": [
    "def load_data(data_path, process_colors = False):\n",
    "    imgs = np.load(\"data\\\\\" + npy_path + '\\\\imgs_' + data_path + '.npy')\n",
    "    imgs = imgs.astype('float32')\n",
    "    imgs /= 255\n",
    "    if (process_colors):\n",
    "        imgs[imgs > 0.5] = 1\n",
    "        imgs[imgs <= 0.5] = 0\n",
    "    return imgs"
   ]
  },
  {
   "cell_type": "code",
   "execution_count": 6,
   "metadata": {},
   "outputs": [
    {
     "name": "stdout",
     "output_type": "stream",
     "text": [
      "Done: 0/144 images\n",
      "Done: 10/144 images\n",
      "Done: 20/144 images\n",
      "Done: 30/144 images\n",
      "Done: 40/144 images\n",
      "Done: 50/144 images\n",
      "Done: 60/144 images\n",
      "Done: 70/144 images\n",
      "Done: 80/144 images\n",
      "Done: 90/144 images\n",
      "Done: 100/144 images\n",
      "Done: 110/144 images\n",
      "Done: 120/144 images\n",
      "Done: 130/144 images\n",
      "Done: 140/144 images\n",
      "Created.\n"
     ]
    },
    {
     "ename": "NameError",
     "evalue": "name 'npy_path' is not defined",
     "output_type": "error",
     "traceback": [
      "\u001b[1;31m---------------------------------------------------------------------------\u001b[0m",
      "\u001b[1;31mNameError\u001b[0m                                 Traceback (most recent call last)",
      "\u001b[1;32m<ipython-input-6-e572d6902c65>\u001b[0m in \u001b[0;36m<module>\u001b[1;34m()\u001b[0m\n\u001b[1;32m----> 1\u001b[1;33m \u001b[0mcreate_data\u001b[0m\u001b[1;33m(\u001b[0m\u001b[0mtrain_path\u001b[0m\u001b[1;33m)\u001b[0m\u001b[1;33m\u001b[0m\u001b[0m\n\u001b[0m\u001b[0;32m      2\u001b[0m \u001b[0mcreate_data\u001b[0m\u001b[1;33m(\u001b[0m\u001b[0mlabel_path\u001b[0m\u001b[1;33m)\u001b[0m\u001b[1;33m\u001b[0m\u001b[0m\n\u001b[0;32m      3\u001b[0m \u001b[0mcreate_data\u001b[0m\u001b[1;33m(\u001b[0m\u001b[0mtest_path\u001b[0m\u001b[1;33m)\u001b[0m\u001b[1;33m\u001b[0m\u001b[0m\n",
      "\u001b[1;32m<ipython-input-4-53681dc52e6c>\u001b[0m in \u001b[0;36mcreate_data\u001b[1;34m(data_path)\u001b[0m\n\u001b[0;32m     14\u001b[0m         \u001b[0mi\u001b[0m \u001b[1;33m+=\u001b[0m \u001b[1;36m1\u001b[0m\u001b[1;33m\u001b[0m\u001b[0m\n\u001b[0;32m     15\u001b[0m     \u001b[0mprint\u001b[0m\u001b[1;33m(\u001b[0m\u001b[1;34m'Created.'\u001b[0m\u001b[1;33m)\u001b[0m\u001b[1;33m\u001b[0m\u001b[0m\n\u001b[1;32m---> 16\u001b[1;33m     \u001b[0mnp\u001b[0m\u001b[1;33m.\u001b[0m\u001b[0msave\u001b[0m\u001b[1;33m(\u001b[0m\u001b[1;34m\"data\\\\\"\u001b[0m \u001b[1;33m+\u001b[0m \u001b[0mnpy_path\u001b[0m \u001b[1;33m+\u001b[0m \u001b[1;34m'\\\\imgs_'\u001b[0m \u001b[1;33m+\u001b[0m \u001b[0mdata_path\u001b[0m \u001b[1;33m+\u001b[0m \u001b[1;34m'.npy'\u001b[0m\u001b[1;33m,\u001b[0m \u001b[0mimgs_data\u001b[0m\u001b[1;33m)\u001b[0m\u001b[1;33m\u001b[0m\u001b[0m\n\u001b[0m\u001b[0;32m     17\u001b[0m     \u001b[0mprint\u001b[0m\u001b[1;33m(\u001b[0m\u001b[1;34m'Saving to .npy files done.'\u001b[0m\u001b[1;33m)\u001b[0m\u001b[1;33m\u001b[0m\u001b[0m\n",
      "\u001b[1;31mNameError\u001b[0m: name 'npy_path' is not defined"
     ]
    }
   ],
   "source": [
    "create_data(train_path)\n",
    "create_data(label_path)\n",
    "create_data(test_path)"
   ]
  }
 ],
 "metadata": {
  "kernelspec": {
   "display_name": "Python 3",
   "language": "python",
   "name": "python3"
  },
  "language_info": {
   "codemirror_mode": {
    "name": "ipython",
    "version": 3
   },
   "file_extension": ".py",
   "mimetype": "text/x-python",
   "name": "python",
   "nbconvert_exporter": "python",
   "pygments_lexer": "ipython3",
   "version": "3.6.1"
  }
 },
 "nbformat": 4,
 "nbformat_minor": 2
}
