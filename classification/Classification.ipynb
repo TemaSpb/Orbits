{
 "cells": [
  {
   "cell_type": "code",
   "execution_count": 36,
   "metadata": {},
   "outputs": [],
   "source": [
    "import numpy as np\n",
    "from keras.models import *\n",
    "import glob\n",
    "from keras.layers import Activation, Conv2D, Dropout, MaxPooling2D, Flatten, Dense\n",
    "import matplotlib.pyplot as plt\n",
    "import matplotlib.image as mpimg\n",
    "%matplotlib inline"
   ]
  },
  {
   "cell_type": "code",
   "execution_count": 62,
   "metadata": {},
   "outputs": [],
   "source": [
    "img_width = 512\n",
    "img_height = 512\n",
    "\n",
    "train_data_dir = 'dataset_classification/1/train/0'\n",
    "validation_data_dir = 'dataset_classification/1/validation/1'\n",
    "nb_train_samples = 182# 1160  \n",
    "nb_validation_samples = 38#370\n",
    "epochs = 10\n",
    "batch_size = 4"
   ]
  },
  {
   "cell_type": "code",
   "execution_count": 15,
   "metadata": {},
   "outputs": [],
   "source": [
    "model = Sequential()\n",
    "model.add(Conv2D(32, 11 ,activation = 'relu', input_shape = (img_width, img_height, 3)))\n",
    "model.add(MaxPooling2D(pool_size=(3,3)))\n",
    "\n",
    "model.add(Conv2D(64, 3 ,activation = 'relu'))\n",
    "model.add(MaxPooling2D(pool_size=(2, 2)))\n",
    "\n",
    "model.add(Conv2D(128, 3 ,activation = 'relu'))\n",
    "model.add(MaxPooling2D(pool_size=(2, 2)))\n",
    "\n",
    "model.add(Conv2D(128, 3 ,activation = 'relu'))\n",
    "model.add(MaxPooling2D(pool_size=(2, 2)))\n",
    "\n",
    "model.add(Flatten())\n",
    "# model.add(Dropout(0.2))\n",
    "model.add(Dense(256, activation = 'relu'))\n",
    "# model.add(Dropout(0.2))\n",
    "model.add(Dense(256, activation='relu'))\n",
    "model.add(Dropout(0.2))\n",
    "model.add(Dense(256, activation='relu'))\n",
    "model.add(Dense(1))\n",
    "model.add(Activation('sigmoid'))\n",
    "\n",
    "model.compile(loss='binary_crossentropy',\n",
    "    optimizer='rmsprop',\n",
    "    metrics=['accuracy'])"
   ]
  },
  {
   "cell_type": "code",
   "execution_count": 18,
   "metadata": {},
   "outputs": [
    {
     "ename": "NameError",
     "evalue": "name 'ImageDataGenerator' is not defined",
     "output_type": "error",
     "traceback": [
      "\u001b[1;31m---------------------------------------------------------------------------\u001b[0m",
      "\u001b[1;31mNameError\u001b[0m                                 Traceback (most recent call last)",
      "\u001b[1;32m<ipython-input-18-1bf701bc3703>\u001b[0m in \u001b[0;36m<module>\u001b[1;34m()\u001b[0m\n\u001b[1;32m----> 1\u001b[1;33m train_datagen = ImageDataGenerator(\n\u001b[0m\u001b[0;32m      2\u001b[0m     \u001b[0mrescale\u001b[0m\u001b[1;33m=\u001b[0m\u001b[1;36m1.\u001b[0m\u001b[1;33m/\u001b[0m\u001b[1;36m255\u001b[0m\u001b[1;33m,\u001b[0m\u001b[1;33m\u001b[0m\u001b[0m\n\u001b[0;32m      3\u001b[0m     \u001b[0mshear_range\u001b[0m\u001b[1;33m=\u001b[0m\u001b[1;36m0.2\u001b[0m\u001b[1;33m,\u001b[0m\u001b[1;33m\u001b[0m\u001b[0m\n\u001b[0;32m      4\u001b[0m     zoom_range=0.2)\n\u001b[0;32m      5\u001b[0m \u001b[1;33m\u001b[0m\u001b[0m\n",
      "\u001b[1;31mNameError\u001b[0m: name 'ImageDataGenerator' is not defined"
     ]
    }
   ],
   "source": [
    "train_datagen = ImageDataGenerator(\n",
    "    rescale=1./255,\n",
    "    shear_range=0.2,\n",
    "    zoom_range=0.2)\n",
    "\n",
    "test_datagen = ImageDataGenerator(rescale=1. / 255)\n",
    "\n",
    "train_generator = train_datagen.flow_from_directory(\n",
    "    train_data_dir,\n",
    "    target_size=(img_width, img_height),\n",
    "    batch_size=batch_size,\n",
    "    class_mode='binary')\n",
    "\n",
    "validation_generator = test_datagen.flow_from_directory(\n",
    "    validation_data_dir,\n",
    "    target_size=(img_width, img_height),\n",
    "    batch_size=batch_size,\n",
    "    class_mode='binary')\n",
    "\n",
    "model.fit_generator(\n",
    "    train_generator,\n",
    "    steps_per_epoch=nb_train_samples // batch_size,\n",
    "    epochs=epochs,\n",
    "    callbacks=callback_list,\n",
    "    validation_data=validation_generator,\n",
    "    validation_steps=nb_validation_samples // batch_size,\n",
    "    verbose=2)"
   ]
  },
  {
   "cell_type": "code",
   "execution_count": 63,
   "metadata": {
    "collapsed": true
   },
   "outputs": [],
   "source": [
    "def load_data(data_path, img_type, rows, cols):\n",
    "imgs = glob.glob(data_path + \"\\\\*\" + img_type)\n",
    "img_count = len(imgs)\n",
    "imgs_data = np.ndarray((img_count, 512, 512, 3), dtype=np.uint8)\n",
    "for i in range(img_count)"
   ]
  },
  {
   "cell_type": "code",
   "execution_count": 54,
   "metadata": {},
   "outputs": [
    {
     "data": {
      "text/plain": [
       "(1, 512, 512, 3)"
      ]
     },
     "execution_count": 54,
     "metadata": {},
     "output_type": "execute_result"
    }
   ],
   "source": [
    "imgs_data.shape"
   ]
  },
  {
   "cell_type": "code",
   "execution_count": null,
   "metadata": {
    "collapsed": true
   },
   "outputs": [],
   "source": [
    "plt.imshow(test)"
   ]
  },
  {
   "cell_type": "code",
   "execution_count": 58,
   "metadata": {},
   "outputs": [],
   "source": [
    "test = mpimg.imread(train_data_dir + \"\\\\1.3.6.1.4.1.5962.99.1.2486353127.1958360993.1488545070311.969.0.jpg\")"
   ]
  },
  {
   "cell_type": "code",
   "execution_count": 60,
   "metadata": {},
   "outputs": [
    {
     "data": {
      "text/plain": [
       "(128, 128, 3)"
      ]
     },
     "execution_count": 60,
     "metadata": {},
     "output_type": "execute_result"
    }
   ],
   "source": [
    "test.shape"
   ]
  },
  {
   "cell_type": "code",
   "execution_count": 64,
   "metadata": {},
   "outputs": [
    {
     "data": {
      "text/plain": [
       "['dataset_classification/1/train/0\\\\IMG-0001-00002.jpg',\n",
       " 'dataset_classification/1/train/0\\\\IMG-0001-00023.jpg',\n",
       " 'dataset_classification/1/train/0\\\\IMG-0001-00040 (2).jpg',\n",
       " 'dataset_classification/1/train/0\\\\IMG-0001-00040.jpg',\n",
       " 'dataset_classification/1/train/0\\\\IMG-0001-00095.jpg',\n",
       " 'dataset_classification/1/train/0\\\\IMG-0001-00126.jpg',\n",
       " 'dataset_classification/1/train/0\\\\IMG-0001-00157.jpg',\n",
       " 'dataset_classification/1/train/0\\\\IMG-0001-00163.jpg',\n",
       " 'dataset_classification/1/train/0\\\\IMG-0001-00202.jpg',\n",
       " 'dataset_classification/1/train/0\\\\IMG-0001-00206.jpg',\n",
       " 'dataset_classification/1/train/0\\\\IMG-0001-00209.jpg',\n",
       " 'dataset_classification/1/train/0\\\\IMG-0001-00217 (2).jpg',\n",
       " 'dataset_classification/1/train/0\\\\IMG-0001-00219.jpg',\n",
       " 'dataset_classification/1/train/0\\\\IMG-0001-00220.jpg',\n",
       " 'dataset_classification/1/train/0\\\\IMG-0001-00222.jpg',\n",
       " 'dataset_classification/1/train/0\\\\IMG-0001-00223.jpg',\n",
       " 'dataset_classification/1/train/0\\\\IMG-0001-00224.jpg',\n",
       " 'dataset_classification/1/train/0\\\\IMG-0001-00236 (2).jpg',\n",
       " 'dataset_classification/1/train/0\\\\IMG-0001-00237.jpg',\n",
       " 'dataset_classification/1/train/0\\\\IMG-0001-00238.jpg',\n",
       " 'dataset_classification/1/train/0\\\\IMG-0001-00239.jpg',\n",
       " 'dataset_classification/1/train/0\\\\IMG-0001-00240.jpg',\n",
       " 'dataset_classification/1/train/0\\\\IMG-0001-00242.jpg',\n",
       " 'dataset_classification/1/train/0\\\\IMG-0001-00245.jpg',\n",
       " 'dataset_classification/1/train/0\\\\IMG-0001-00246.jpg',\n",
       " 'dataset_classification/1/train/0\\\\IMG-0001-00247.jpg',\n",
       " 'dataset_classification/1/train/0\\\\IMG-0001-00248.jpg',\n",
       " 'dataset_classification/1/train/0\\\\IMG-0001-00249.jpg',\n",
       " 'dataset_classification/1/train/0\\\\IMG-0001-00250.jpg',\n",
       " 'dataset_classification/1/train/0\\\\IMG-0001-00251.jpg',\n",
       " 'dataset_classification/1/train/0\\\\IMG-0001-00252.jpg',\n",
       " 'dataset_classification/1/train/0\\\\IMG-0001-00253.jpg',\n",
       " 'dataset_classification/1/train/0\\\\IMG-0001-00254.jpg',\n",
       " 'dataset_classification/1/train/0\\\\IMG-0001-00255.jpg',\n",
       " 'dataset_classification/1/train/0\\\\IMG-0001-00256.jpg',\n",
       " 'dataset_classification/1/train/0\\\\IMG-0001-00258.jpg',\n",
       " 'dataset_classification/1/train/0\\\\IMG-0001-00259.jpg',\n",
       " 'dataset_classification/1/train/0\\\\IMG-0001-00260.jpg',\n",
       " 'dataset_classification/1/train/0\\\\IMG-0001-00261.jpg',\n",
       " 'dataset_classification/1/train/0\\\\IMG-0001-00262.jpg',\n",
       " 'dataset_classification/1/train/0\\\\IMG-0001-00263.jpg',\n",
       " 'dataset_classification/1/train/0\\\\IMG-0001-00264.jpg',\n",
       " 'dataset_classification/1/train/0\\\\IMG-0001-00266.jpg',\n",
       " 'dataset_classification/1/train/0\\\\IMG-0001-00267 (2).jpg',\n",
       " 'dataset_classification/1/train/0\\\\IMG-0001-00267.jpg',\n",
       " 'dataset_classification/1/train/0\\\\IMG-0001-00268.jpg',\n",
       " 'dataset_classification/1/train/0\\\\IMG-0001-00269.jpg',\n",
       " 'dataset_classification/1/train/0\\\\IMG-0001-00270.jpg',\n",
       " 'dataset_classification/1/train/0\\\\IMG-0001-00271.jpg',\n",
       " 'dataset_classification/1/train/0\\\\IMG-0001-00272.jpg',\n",
       " 'dataset_classification/1/train/0\\\\IMG-0001-00273.jpg',\n",
       " 'dataset_classification/1/train/0\\\\IMG-0001-00274.jpg',\n",
       " 'dataset_classification/1/train/0\\\\IMG-0001-00275.jpg',\n",
       " 'dataset_classification/1/train/0\\\\IMG-0001-00276.jpg',\n",
       " 'dataset_classification/1/train/0\\\\IMG-0001-00277.jpg',\n",
       " 'dataset_classification/1/train/0\\\\IMG-0001-00278.jpg',\n",
       " 'dataset_classification/1/train/0\\\\IMG-0001-00279.jpg',\n",
       " 'dataset_classification/1/train/0\\\\IMG-0001-00280 (2).jpg',\n",
       " 'dataset_classification/1/train/0\\\\IMG-0001-00280.jpg',\n",
       " 'dataset_classification/1/train/0\\\\IMG-0001-00281.jpg',\n",
       " 'dataset_classification/1/train/0\\\\IMG-0001-00282.jpg',\n",
       " 'dataset_classification/1/train/0\\\\IMG-0001-00283.jpg',\n",
       " 'dataset_classification/1/train/0\\\\IMG-0001-00284 (2).jpg',\n",
       " 'dataset_classification/1/train/0\\\\IMG-0001-00284.jpg',\n",
       " 'dataset_classification/1/train/0\\\\IMG-0001-00286.jpg',\n",
       " 'dataset_classification/1/train/0\\\\IMG-0001-00287.jpg',\n",
       " 'dataset_classification/1/train/0\\\\IMG-0001-00288.jpg',\n",
       " 'dataset_classification/1/train/0\\\\IMG-0001-00289 (2).jpg',\n",
       " 'dataset_classification/1/train/0\\\\IMG-0001-00289.jpg',\n",
       " 'dataset_classification/1/train/0\\\\IMG-0001-00290.jpg',\n",
       " 'dataset_classification/1/train/0\\\\IMG-0001-00291.jpg',\n",
       " 'dataset_classification/1/train/0\\\\IMG-0001-00292.jpg',\n",
       " 'dataset_classification/1/train/0\\\\IMG-0001-00293.jpg',\n",
       " 'dataset_classification/1/train/0\\\\IMG-0001-00294.jpg',\n",
       " 'dataset_classification/1/train/0\\\\IMG-0001-00295.jpg',\n",
       " 'dataset_classification/1/train/0\\\\IMG-0001-00296.jpg',\n",
       " 'dataset_classification/1/train/0\\\\IMG-0001-00297.jpg',\n",
       " 'dataset_classification/1/train/0\\\\IMG-0001-00298 (2).jpg',\n",
       " 'dataset_classification/1/train/0\\\\IMG-0001-00298.jpg',\n",
       " 'dataset_classification/1/train/0\\\\IMG-0001-00300.jpg',\n",
       " 'dataset_classification/1/train/0\\\\IMG-0001-00301.jpg',\n",
       " 'dataset_classification/1/train/0\\\\IMG-0001-00303.jpg',\n",
       " 'dataset_classification/1/train/0\\\\IMG-0001-00304.jpg',\n",
       " 'dataset_classification/1/train/0\\\\IMG-0001-00305.jpg',\n",
       " 'dataset_classification/1/train/0\\\\IMG-0001-00306.jpg',\n",
       " 'dataset_classification/1/train/0\\\\IMG-0001-00307.jpg',\n",
       " 'dataset_classification/1/train/0\\\\IMG-0001-00308 (2).jpg',\n",
       " 'dataset_classification/1/train/0\\\\IMG-0001-00308.jpg',\n",
       " 'dataset_classification/1/train/0\\\\IMG-0001-00331.jpg',\n",
       " 'dataset_classification/1/train/0\\\\IMG-0001-00332.jpg',\n",
       " 'dataset_classification/1/train/0\\\\IMG-0001-00333.jpg',\n",
       " 'dataset_classification/1/train/0\\\\IMG-0001-00334.jpg',\n",
       " 'dataset_classification/1/train/0\\\\IMG-0001-00335.jpg',\n",
       " 'dataset_classification/1/train/0\\\\IMG-0001-00336.jpg',\n",
       " 'dataset_classification/1/train/0\\\\IMG-0001-00337.jpg',\n",
       " 'dataset_classification/1/train/0\\\\IMG-0001-00338.jpg',\n",
       " 'dataset_classification/1/train/0\\\\IMG-0001-00339.jpg',\n",
       " 'dataset_classification/1/train/0\\\\IMG-0001-00340.jpg',\n",
       " 'dataset_classification/1/train/0\\\\IMG-0001-00341.jpg',\n",
       " 'dataset_classification/1/train/0\\\\IMG-0001-00342.jpg',\n",
       " 'dataset_classification/1/train/0\\\\IMG-0001-00343.jpg',\n",
       " 'dataset_classification/1/train/0\\\\IMG-0001-00344.jpg',\n",
       " 'dataset_classification/1/train/0\\\\IMG-0001-00345.jpg',\n",
       " 'dataset_classification/1/train/0\\\\IMG-0001-00346 (2).jpg',\n",
       " 'dataset_classification/1/train/0\\\\IMG-0001-00347.jpg',\n",
       " 'dataset_classification/1/train/0\\\\IMG-0001-00348.jpg',\n",
       " 'dataset_classification/1/train/0\\\\IMG-0001-00349.jpg',\n",
       " 'dataset_classification/1/train/0\\\\IMG-0001-00350.jpg',\n",
       " 'dataset_classification/1/train/0\\\\IMG-0001-00351.jpg',\n",
       " 'dataset_classification/1/train/0\\\\IMG-0001-00352 (2).jpg',\n",
       " 'dataset_classification/1/train/0\\\\IMG-0001-00352.jpg',\n",
       " 'dataset_classification/1/train/0\\\\IMG-0001-00405.jpg',\n",
       " 'dataset_classification/1/train/0\\\\IMG-0001-00409.jpg',\n",
       " 'dataset_classification/1/train/0\\\\IMG-0001-00415.jpg',\n",
       " 'dataset_classification/1/train/0\\\\IMG-0001-00423.jpg',\n",
       " 'dataset_classification/1/train/0\\\\IMG-0001-00430.jpg']"
      ]
     },
     "execution_count": 64,
     "metadata": {},
     "output_type": "execute_result"
    }
   ],
   "source": [
    "imgs"
   ]
  }
 ],
 "metadata": {
  "kernelspec": {
   "display_name": "Python 3",
   "language": "python",
   "name": "python3"
  },
  "language_info": {
   "codemirror_mode": {
    "name": "ipython",
    "version": 3
   },
   "file_extension": ".py",
   "mimetype": "text/x-python",
   "name": "python",
   "nbconvert_exporter": "python",
   "pygments_lexer": "ipython3",
   "version": "3.6.1"
  }
 },
 "nbformat": 4,
 "nbformat_minor": 2
}
