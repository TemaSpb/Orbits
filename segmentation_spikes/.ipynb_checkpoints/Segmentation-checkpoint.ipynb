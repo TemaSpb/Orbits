{
 "cells": [
  {
   "cell_type": "code",
   "execution_count": 1,
   "metadata": {},
   "outputs": [
    {
     "name": "stderr",
     "output_type": "stream",
     "text": [
      "C:\\Python\\lib\\site-packages\\h5py\\__init__.py:34: FutureWarning: Conversion of the second argument of issubdtype from `float` to `np.floating` is deprecated. In future, it will be treated as `np.float64 == np.dtype(float).type`.\n",
      "  from ._conv import register_converters as _register_converters\n",
      "Using TensorFlow backend.\n"
     ]
    }
   ],
   "source": [
    "import numpy as np \n",
    "import glob\n",
    "from keras.preprocessing.image import array_to_img, img_to_array, load_img\n",
    "from keras.models import *\n",
    "from keras.layers.merge import concatenate\n",
    "from keras.layers import Input, merge, Conv2D, MaxPooling2D, UpSampling2D, Dropout, Cropping2D\n",
    "from keras.optimizers import *\n",
    "from keras.callbacks import ModelCheckpoint, LearningRateScheduler\n",
    "from keras import backend as keras"
   ]
  },
  {
   "cell_type": "markdown",
   "metadata": {},
   "source": [
    "# Data processing"
   ]
  },
  {
   "cell_type": "code",
   "execution_count": 2,
   "metadata": {
    "collapsed": true
   },
   "outputs": [],
   "source": [
    "# make config\n",
    "rows = 128\n",
    "cols = 256\n",
    "train_path = \"train\"\n",
    "label_path = \"label\"\n",
    "img_type = \"jpg\"\n",
    "test_path = \"test\"\n",
    "npy_path = \"npydata\""
   ]
  },
  {
   "cell_type": "code",
   "execution_count": 3,
   "metadata": {
    "collapsed": true
   },
   "outputs": [],
   "source": [
    "def create_data(data_path, npy_path, rows, cols):   \n",
    "    imgs = glob.glob(\"data\\\\\" + data_path + \"\\\\*.\" + img_type)\n",
    "    i = 0\n",
    "    img_count = len(imgs)\n",
    "    imgs_data = np.ndarray((img_count, rows, cols, 1), dtype=np.uint8)\n",
    "    for img_full_name in imgs:\n",
    "        img_name = img_full_name[img_full_name.rindex(\"\\\\\") + 1:]\n",
    "        # test\n",
    "        img = load_img(\"data\\\\\" + data_path + \"\\\\\" + img_name, grayscale = True)\n",
    "        img = img_to_array(img)\n",
    "        imgs_data[i] = img\n",
    "        if i % 10 == 0:\n",
    "            print('Done: {0}/{1} images'.format(i, img_count))\n",
    "        i += 1\n",
    "    print('Created.')\n",
    "    np.save(\"data\\\\\" + npy_path + '\\\\imgs_' + data_path + '.npy', imgs_data)\n",
    "    print('Saving to .npy files done.')"
   ]
  },
  {
   "cell_type": "code",
   "execution_count": 4,
   "metadata": {
    "collapsed": true
   },
   "outputs": [],
   "source": [
    "def load_data(data_path, npy_path, process_colors = False):\n",
    "    imgs = np.load(\"data\\\\\" + npy_path + '\\\\imgs_' + data_path + '.npy')\n",
    "    imgs = imgs.astype('float32')\n",
    "    imgs /= 255\n",
    "    if (process_colors):\n",
    "        imgs[imgs > 0.5] = 1\n",
    "        imgs[imgs <= 0.5] = 0\n",
    "    return imgs"
   ]
  },
  {
   "cell_type": "markdown",
   "metadata": {},
   "source": [
    "# U-net"
   ]
  },
  {
   "cell_type": "code",
   "execution_count": 5,
   "metadata": {
    "collapsed": true
   },
   "outputs": [],
   "source": [
    "def bottleneck1(rows, cols, k_size = 3):\n",
    "\n",
    "    inputs = Input((rows, cols, 1))\n",
    "    merge_axis = -1\n",
    "    conv1 = Conv2D(filters=32, kernel_size=k_size, padding='same', activation='relu')(inputs)\n",
    "    conv1 = Conv2D(filters=32, kernel_size=k_size, padding='same', activation='relu')(conv1)\n",
    "    pool1 = MaxPooling2D(pool_size=(2, 2))(conv1)\n",
    "\n",
    "    conv2 = Conv2D(filters=64, kernel_size=k_size, padding='same', activation='relu')(pool1)\n",
    "    conv2 = Conv2D(filters=64, kernel_size=k_size, padding='same', activation='relu')(conv2)\n",
    "    pool2 = MaxPooling2D(pool_size=(2, 2))(conv2)\n",
    "\n",
    "    conv3 = Conv2D(filters=64, kernel_size=k_size, padding='same', activation='relu')(pool2)\n",
    "    conv3 = Conv2D(filters=64, kernel_size=k_size, padding='same', activation='relu')(conv3)\n",
    "    pool3 = MaxPooling2D(pool_size=(2, 2))(conv3)\n",
    "    \n",
    "    output = pool3\n",
    "    model = Model(inputs, output)\n",
    "    return model"
   ]
  },
  {
   "cell_type": "code",
   "execution_count": 20,
   "metadata": {
    "collapsed": true
   },
   "outputs": [],
   "source": [
    "def bottleneck2(rows, cols, k_size = 3):\n",
    "    \n",
    "    inputs = Input((32, 32, 64))\n",
    "    merge_axis = -1\n",
    "    conv4 = Conv2D(filters=128, kernel_size=k_size, padding='same', activation='relu')(inputs)\n",
    "    conv4 = Conv2D(filters=128, kernel_size=k_size, padding='same', activation='relu')(conv4)\n",
    "    pool4 = MaxPooling2D(pool_size=(2, 2))(conv4)\n",
    "\n",
    "    conv5 = Conv2D(filters=256, kernel_size=k_size, padding='same', activation='relu')(pool4)\n",
    "\n",
    "    up1 = UpSampling2D(size=(2, 2))(conv5)\n",
    "    conv6 = Conv2D(filters=256, kernel_size=k_size, padding='same', activation='relu')(up1)\n",
    "    conv6 = Conv2D(filters=256, kernel_size=k_size, padding='same', activation='relu')(conv6)\n",
    "    merged1 = concatenate([conv4, conv6], axis=merge_axis)\n",
    "    conv6 = Conv2D(filters=256, kernel_size=k_size, padding='same', activation='relu')(merged1)\n",
    "\n",
    "    up2 = UpSampling2D(size=(2, 2))(conv6)\n",
    "    conv7 = Conv2D(filters=256, kernel_size=k_size, padding='same', activation='relu')(up2)\n",
    "    conv7 = Conv2D(filters=256, kernel_size=k_size, padding='same', activation='relu')(conv7)\n",
    "    merged2 = concatenate([conv3, conv7], axis=merge_axis)\n",
    "    conv7 = Conv2D(filters=256, kernel_size=k_size, padding='same', activation='relu')(conv7)\n",
    "\n",
    "    up3 = UpSampling2D(size=(2, 2))(conv7)\n",
    "    conv8 = Conv2D(filters=128, kernel_size=k_size, padding='same', activation='relu')(up3)\n",
    "    conv8 = Conv2D(filters=128, kernel_size=k_size, padding='same', activation='relu')(conv8)\n",
    "    merged3 = concatenate([conv2, conv8], axis=merge_axis)\n",
    "    conv8 = Conv2D(filters=128, kernel_size=k_size, padding='same', activation='relu')(conv8)\n",
    "\n",
    "    up4 = UpSampling2D(size=(2, 2))(conv8)\n",
    "    conv9 = Conv2D(filters=64, kernel_size=k_size, padding='same', activation='relu')(up4)\n",
    "    conv9 = Conv2D(filters=64, kernel_size=k_size, padding='same', activation='relu')(conv9)\n",
    "    merged4 = concatenate([conv1, conv9], axis=merge_axis)\n",
    "    conv9 = Conv2D(filters=64, kernel_size=k_size, padding='same', activation='relu')(conv9)\n",
    "\n",
    "    conv10 = Conv2D(filters=1, kernel_size=k_size, padding='same', activation='sigmoid')(conv9)\n",
    "\n",
    "    output = conv10\n",
    "    model = Model(inputs, output)\n",
    "    model.compile(optimizer = Adam(lr = 1e-4), loss = 'binary_crossentropy', metrics = ['accuracy'])\n",
    "    \n",
    "    return model"
   ]
  },
  {
   "cell_type": "code",
   "execution_count": 7,
   "metadata": {
    "collapsed": true
   },
   "outputs": [],
   "source": [
    "def train(train_path, test_path, label_path, npy_path, rows, cols):\n",
    "    imgs_train = load_data(train_path, npy_path)\n",
    "    imgs_test = load_data(test_path, npy_path)\n",
    "    imgs_mask_train = load_data(label_path, npy_path, True)\n",
    "    model = get_model(rows, cols)\n",
    "\n",
    "    model_checkpoint = ModelCheckpoint('unet.hdf5', monitor='loss',verbose=1, save_best_only=True)\n",
    "    model.fit(imgs_train, imgs_mask_train, batch_size=4, nb_epoch=5, verbose=1,validation_split=0.2, shuffle=True, callbacks=[model_checkpoint])\n",
    "\n",
    "    imgs_mask_test = model.predict(imgs_test, batch_size=1, verbose=1)\n",
    "    save_results(imgs_mask_test)"
   ]
  },
  {
   "cell_type": "code",
   "execution_count": 16,
   "metadata": {
    "collapsed": true
   },
   "outputs": [],
   "source": [
    "def predict(test_path, npy_path, rows, cols):\n",
    "    imgs_test = load_data(test_path, npy_path)\n",
    "    model = build_UNet2D_4L(rows, cols)\n",
    "    model.load_weights('weights.hdf5')\n",
    "    imgs_mask_test = model.predict(imgs_test, batch_size = 4, verbose=1)\n",
    "    save_results(imgs_mask_test)"
   ]
  },
  {
   "cell_type": "code",
   "execution_count": 9,
   "metadata": {
    "collapsed": true
   },
   "outputs": [],
   "source": [
    "def test(train_path, test_path, label_path, npy_path, rows, cols):\n",
    "    imgs_train = load_data(train_path, npy_path)\n",
    "    imgs_test = load_data(test_path, npy_path)\n",
    "    imgs_mask_train = load_data(label_path, npy_path, True)\n",
    "    \n",
    "    model = build_UNet2D_4L(rows, cols)\n",
    "    model.load_weights('trained_model.hdf5')\n",
    "    weights_list = model.get_weights()\n",
    "    \n",
    "    model_checkpoint = ModelCheckpoint('weights.hdf5', monitor='loss',verbose=1, save_best_only=True)\n",
    "    model.fit(imgs_train, imgs_mask_train, batch_size=4, nb_epoch=10, verbose=1,validation_split=0.2, shuffle=True, callbacks=[model_checkpoint])\n",
    "    \n",
    "    imgs_mask_test = model.predict(imgs_test, batch_size = 4, verbose=1)\n",
    "    save_results(imgs_mask_test)   "
   ]
  },
  {
   "cell_type": "code",
   "execution_count": 10,
   "metadata": {
    "collapsed": true
   },
   "outputs": [],
   "source": [
    "def build_UNet2D_4L(rows, cols, k_size=3):\n",
    "    inputs = Input((rows, cols, 1))\n",
    "    merge_axis = -1 # Feature maps are concatenated along last axis (for tf backend)\n",
    "    conv1 = Conv2D(filters=32, kernel_size=k_size, padding='same', activation='relu', trainable=False)(inputs)\n",
    "    conv1 = Conv2D(filters=32, kernel_size=k_size, padding='same', activation='relu', trainable=False)(conv1)\n",
    "    pool1 = MaxPooling2D(pool_size=(2, 2))(conv1)\n",
    "\n",
    "    conv2 = Conv2D(filters=64, kernel_size=k_size, padding='same', activation='relu', trainable=False)(pool1)\n",
    "    conv2 = Conv2D(filters=64, kernel_size=k_size, padding='same', activation='relu', trainable=False)(conv2)\n",
    "    pool2 = MaxPooling2D(pool_size=(2, 2))(conv2)\n",
    "    \n",
    "    \"\"\"\"\"\" \"\"\"\"\"\" \"\"\"\"\"\" \"\"\"\"\"\" \"\"\"\"\"\" \"\"\"\"\"\"\"\"\"\"\"\" \"\"\"\"\"\" \"\"\"\"\"\" \"\"\"\"\"\" \"\"\"\"\"\" \"\"\"\"\"\"\"\"\"\"\"\" \"\"\"\"\"\" \"\"\"\"\"\" \"\"\"\"\"\" \"\"\"\"\"\" \"\"\"\"\"\"\n",
    "\n",
    "    conv3 = Conv2D(filters=64, kernel_size=k_size, padding='same', activation='relu', trainable=False)(pool2)\n",
    "    conv3 = Conv2D(filters=64, kernel_size=k_size, padding='same', activation='relu', trainable=False)(conv3)\n",
    "    pool3 = MaxPooling2D(pool_size=(2, 2))(conv3)\n",
    "    \n",
    "    \"\"\"\"\"\" \"\"\"\"\"\" \"\"\"\"\"\" \"\"\"\"\"\" \"\"\"\"\"\" \"\"\"\"\"\"\"\"\"\"\"\" \"\"\"\"\"\" \"\"\"\"\"\" \"\"\"\"\"\" \"\"\"\"\"\" \"\"\"\"\"\"\n",
    "\n",
    "    conv4 = Conv2D(filters=128, kernel_size=k_size, padding='same', activation='relu')(pool3)\n",
    "    conv4 = Conv2D(filters=128, kernel_size=k_size, padding='same', activation='relu')(conv4)\n",
    "    pool4 = MaxPooling2D(pool_size=(2, 2))(conv4)\n",
    "\n",
    "    conv5 = Conv2D(filters=256, kernel_size=k_size, padding='same', activation='relu')(pool4)\n",
    "\n",
    "    up1 = UpSampling2D(size=(2, 2))(conv5)\n",
    "    conv6 = Conv2D(filters=256, kernel_size=k_size, padding='same', activation='relu')(up1)\n",
    "    conv6 = Conv2D(filters=256, kernel_size=k_size, padding='same', activation='relu')(conv6)\n",
    "    merged1 = concatenate([conv4, conv6], axis=merge_axis)\n",
    "    conv6 = Conv2D(filters=256, kernel_size=k_size, padding='same', activation='relu')(merged1)\n",
    "    \n",
    "    \"\"\"\"\"\" \"\"\"\"\"\" \"\"\"\"\"\" \"\"\"\"\"\" \"\"\"\"\"\" \"\"\"\"\"\"\"\"\"\"\"\" \"\"\"\"\"\" \"\"\"\"\"\" \"\"\"\"\"\" \"\"\"\"\"\" \"\"\"\"\"\"\n",
    "\n",
    "    up2 = UpSampling2D(size=(2, 2))(conv6)\n",
    "    conv7 = Conv2D(filters=256, kernel_size=k_size, padding='same', activation='relu', trainable=False)(up2)\n",
    "    conv7 = Conv2D(filters=256, kernel_size=k_size, padding='same', activation='relu', trainable=False)(conv7)\n",
    "    merged2 = concatenate([conv3, conv7], axis=merge_axis)\n",
    "    conv7 = Conv2D(filters=256, kernel_size=k_size, padding='same', activation='relu', trainable=False)(merged2)\n",
    "    \n",
    "    \"\"\"\"\"\" \"\"\"\"\"\" \"\"\"\"\"\" \"\"\"\"\"\" \"\"\"\"\"\" \"\"\"\"\"\"\"\"\"\"\"\" \"\"\"\"\"\" \"\"\"\"\"\" \"\"\"\"\"\" \"\"\"\"\"\" \"\"\"\"\"\"\"\"\"\"\"\" \"\"\"\"\"\" \"\"\"\"\"\" \"\"\"\"\"\" \"\"\"\"\"\" \"\"\"\"\"\"\n",
    "\n",
    "    up3 = UpSampling2D(size=(2, 2))(conv7)\n",
    "    conv8 = Conv2D(filters=128, kernel_size=k_size, padding='same', activation='relu', trainable=False)(up3)\n",
    "    conv8 = Conv2D(filters=128, kernel_size=k_size, padding='same', activation='relu', trainable=False)(conv8)\n",
    "    merged3 = concatenate([conv2, conv8], axis=merge_axis)\n",
    "    conv8 = Conv2D(filters=128, kernel_size=k_size, padding='same', activation='relu', trainable=False)(merged3)\n",
    "\n",
    "    up4 = UpSampling2D(size=(2, 2))(conv8)\n",
    "    conv9 = Conv2D(filters=64, kernel_size=k_size, padding='same', activation='relu', trainable=False)(up4)\n",
    "    conv9 = Conv2D(filters=64, kernel_size=k_size, padding='same', activation='relu', trainable=False)(conv9)\n",
    "    merged4 = concatenate([conv1, conv9], axis=merge_axis)\n",
    "    conv9 = Conv2D(filters=64, kernel_size=k_size, padding='same', activation='relu', trainable=False)(merged4)\n",
    "\n",
    "    conv10 = Conv2D(filters=1, kernel_size=k_size, padding='same', activation='sigmoid', trainable=False)(conv9)\n",
    "\n",
    "    output = conv10\n",
    "    model = Model(inputs, output)\n",
    "    model.compile(optimizer = Adam(lr = 1e-4), loss = 'binary_crossentropy', metrics = ['accuracy'])\n",
    "    return model"
   ]
  },
  {
   "cell_type": "code",
   "execution_count": null,
   "metadata": {
    "collapsed": true
   },
   "outputs": [],
   "source": [
    "def get_model(rows, cols, k_size=3):\n",
    "    inputs = Input((rows, cols, 1))\n",
    "    merge_axis = -1 # Feature maps are concatenated along last axis (for tf backend)\n",
    "    conv1 = Conv2D(filters=32, kernel_size=k_size, padding='same', activation='relu')(inputs)\n",
    "    conv1 = Conv2D(filters=32, kernel_size=k_size, padding='same', activation='relu')(conv1)\n",
    "    pool1 = MaxPooling2D(pool_size=(2, 2))(conv1)\n",
    "\n",
    "    conv2 = Conv2D(filters=64, kernel_size=k_size, padding='same', activation='relu')(pool1)\n",
    "    conv2 = Conv2D(filters=64, kernel_size=k_size, padding='same', activation='relu')(conv2)\n",
    "    pool2 = MaxPooling2D(pool_size=(2, 2))(conv2)\n",
    "    \n",
    "    \"\"\"\"\"\" \"\"\"\"\"\" \"\"\"\"\"\" \"\"\"\"\"\" \"\"\"\"\"\" \"\"\"\"\"\"\"\"\"\"\"\" \"\"\"\"\"\" \"\"\"\"\"\" \"\"\"\"\"\" \"\"\"\"\"\" \"\"\"\"\"\"\"\"\"\"\"\" \"\"\"\"\"\" \"\"\"\"\"\" \"\"\"\"\"\" \"\"\"\"\"\" \"\"\"\"\"\"\n",
    "\n",
    "    conv3 = Conv2D(filters=64, kernel_size=k_size, padding='same', activation='relu')(pool2)\n",
    "    conv3 = Conv2D(filters=64, kernel_size=k_size, padding='same', activation='relu')(conv3)\n",
    "    pool3 = MaxPooling2D(pool_size=(2, 2))(conv3)\n",
    "    \n",
    "    \"\"\"\"\"\" \"\"\"\"\"\" \"\"\"\"\"\" \"\"\"\"\"\" \"\"\"\"\"\" \"\"\"\"\"\"\"\"\"\"\"\" \"\"\"\"\"\" \"\"\"\"\"\" \"\"\"\"\"\" \"\"\"\"\"\" \"\"\"\"\"\"\n",
    "\n",
    "    conv4 = Conv2D(filters=128, kernel_size=k_size, padding='same', activation='relu')(pool3)\n",
    "    conv4 = Conv2D(filters=128, kernel_size=k_size, padding='same', activation='relu')(conv4)\n",
    "    pool4 = MaxPooling2D(pool_size=(2, 2))(conv4)\n",
    "\n",
    "    conv5 = Conv2D(filters=256, kernel_size=k_size, padding='same', activation='relu')(pool4)\n",
    "\n",
    "    up1 = UpSampling2D(size=(2, 2))(conv5)\n",
    "    conv6 = Conv2D(filters=256, kernel_size=k_size, padding='same', activation='relu')(up1)\n",
    "    conv6 = Conv2D(filters=256, kernel_size=k_size, padding='same', activation='relu')(conv6)\n",
    "    merged1 = concatenate([conv4, conv6], axis=merge_axis)\n",
    "    conv6 = Conv2D(filters=256, kernel_size=k_size, padding='same', activation='relu')(merged1)\n",
    "    \n",
    "    \"\"\"\"\"\" \"\"\"\"\"\" \"\"\"\"\"\" \"\"\"\"\"\" \"\"\"\"\"\" \"\"\"\"\"\"\"\"\"\"\"\" \"\"\"\"\"\" \"\"\"\"\"\" \"\"\"\"\"\" \"\"\"\"\"\" \"\"\"\"\"\"\n",
    "\n",
    "    up2 = UpSampling2D(size=(2, 2))(conv6)\n",
    "    conv7 = Conv2D(filters=256, kernel_size=k_size, padding='same', activation='relu')(up2)\n",
    "    conv7 = Conv2D(filters=256, kernel_size=k_size, padding='same', activation='relu')(conv7)\n",
    "    merged2 = concatenate([conv3, conv7], axis=merge_axis)\n",
    "    conv7 = Conv2D(filters=256, kernel_size=k_size, padding='same', activation='relu')(merged2)\n",
    "    \n",
    "    \"\"\"\"\"\" \"\"\"\"\"\" \"\"\"\"\"\" \"\"\"\"\"\" \"\"\"\"\"\" \"\"\"\"\"\"\"\"\"\"\"\" \"\"\"\"\"\" \"\"\"\"\"\" \"\"\"\"\"\" \"\"\"\"\"\" \"\"\"\"\"\"\"\"\"\"\"\" \"\"\"\"\"\" \"\"\"\"\"\" \"\"\"\"\"\" \"\"\"\"\"\" \"\"\"\"\"\"\n",
    "\n",
    "    up3 = UpSampling2D(size=(2, 2))(conv7)\n",
    "    conv8 = Conv2D(filters=128, kernel_size=k_size, padding='same', activation='relu')(up3)\n",
    "    conv8 = Conv2D(filters=128, kernel_size=k_size, padding='same', activation='relu')(conv8)\n",
    "    merged3 = concatenate([conv2, conv8], axis=merge_axis)\n",
    "    conv8 = Conv2D(filters=128, kernel_size=k_size, padding='same', activation='relu')(merged3)\n",
    "\n",
    "    up4 = UpSampling2D(size=(2, 2))(conv8)\n",
    "    conv9 = Conv2D(filters=64, kernel_size=k_size, padding='same', activation='relu')(up4)\n",
    "    conv9 = Conv2D(filters=64, kernel_size=k_size, padding='same', activation='relu')(conv9)\n",
    "    merged4 = concatenate([conv1, conv9], axis=merge_axis)\n",
    "    conv9 = Conv2D(filters=64, kernel_size=k_size, padding='same', activation='relu')(merged4)\n",
    "\n",
    "    conv10 = Conv2D(filters=1, kernel_size=k_size, padding='same', activation='sigmoid')(conv9)\n",
    "\n",
    "    output = conv10\n",
    "    model = Model(inputs, output)\n",
    "    model.compile(optimizer = Adam(lr = 1e-4), loss = 'binary_crossentropy', metrics = ['accuracy'])\n",
    "    return model"
   ]
  },
  {
   "cell_type": "code",
   "execution_count": 13,
   "metadata": {},
   "outputs": [
    {
     "name": "stderr",
     "output_type": "stream",
     "text": [
      "C:\\Python\\lib\\site-packages\\ipykernel_launcher.py:11: UserWarning: The `nb_epoch` argument in `fit` has been renamed `epochs`.\n",
      "  # This is added back by InteractiveShellApp.init_path()\n"
     ]
    },
    {
     "name": "stdout",
     "output_type": "stream",
     "text": [
      "Train on 28 samples, validate on 7 samples\n",
      "Epoch 1/10\n",
      "28/28 [==============================] - 59s 2s/step - loss: 0.1194 - acc: 0.9585 - val_loss: 0.0893 - val_acc: 0.9661\n",
      "\n",
      "Epoch 00001: loss improved from inf to 0.11943, saving model to weights.hdf5\n",
      "Epoch 2/10\n",
      "28/28 [==============================] - 60s 2s/step - loss: 0.0376 - acc: 0.9917 - val_loss: 0.0464 - val_acc: 0.9879\n",
      "\n",
      "Epoch 00002: loss improved from 0.11943 to 0.03757, saving model to weights.hdf5\n",
      "Epoch 3/10\n",
      "28/28 [==============================] - 59s 2s/step - loss: 0.0266 - acc: 0.9966 - val_loss: 0.0339 - val_acc: 0.9940\n",
      "\n",
      "Epoch 00003: loss improved from 0.03757 to 0.02659, saving model to weights.hdf5\n",
      "Epoch 4/10\n",
      "28/28 [==============================] - 59s 2s/step - loss: 0.0257 - acc: 0.9969 - val_loss: 0.0301 - val_acc: 0.9957\n",
      "\n",
      "Epoch 00004: loss improved from 0.02659 to 0.02572, saving model to weights.hdf5\n",
      "Epoch 5/10\n",
      "28/28 [==============================] - 58s 2s/step - loss: 0.0252 - acc: 0.9970 - val_loss: 0.0285 - val_acc: 0.9962\n",
      "\n",
      "Epoch 00005: loss improved from 0.02572 to 0.02518, saving model to weights.hdf5\n",
      "Epoch 6/10\n",
      "28/28 [==============================] - 59s 2s/step - loss: 0.0246 - acc: 0.9970 - val_loss: 0.0278 - val_acc: 0.9964\n",
      "\n",
      "Epoch 00006: loss improved from 0.02518 to 0.02462, saving model to weights.hdf5\n",
      "Epoch 7/10\n",
      "28/28 [==============================] - 61s 2s/step - loss: 0.0239 - acc: 0.9970 - val_loss: 0.0274 - val_acc: 0.9965\n",
      "\n",
      "Epoch 00007: loss improved from 0.02462 to 0.02392, saving model to weights.hdf5\n",
      "Epoch 8/10\n",
      "28/28 [==============================] - 60s 2s/step - loss: 0.0233 - acc: 0.9970 - val_loss: 0.0273 - val_acc: 0.9966\n",
      "\n",
      "Epoch 00008: loss improved from 0.02392 to 0.02327, saving model to weights.hdf5\n",
      "Epoch 9/10\n",
      "28/28 [==============================] - 60s 2s/step - loss: 0.0227 - acc: 0.9970 - val_loss: 0.0272 - val_acc: 0.9965\n",
      "\n",
      "Epoch 00009: loss improved from 0.02327 to 0.02272, saving model to weights.hdf5\n",
      "Epoch 10/10\n",
      "28/28 [==============================] - 59s 2s/step - loss: 0.0222 - acc: 0.9971 - val_loss: 0.0272 - val_acc: 0.9965\n",
      "\n",
      "Epoch 00010: loss improved from 0.02272 to 0.02219, saving model to weights.hdf5\n",
      "4/4 [==============================] - 4s 881ms/step\n"
     ]
    },
    {
     "ename": "NameError",
     "evalue": "name 'save_results' is not defined",
     "output_type": "error",
     "traceback": [
      "\u001b[1;31m---------------------------------------------------------------------------\u001b[0m",
      "\u001b[1;31mNameError\u001b[0m                                 Traceback (most recent call last)",
      "\u001b[1;32m<ipython-input-13-56b38a23bbbc>\u001b[0m in \u001b[0;36m<module>\u001b[1;34m()\u001b[0m\n\u001b[1;32m----> 1\u001b[1;33m \u001b[0mtest\u001b[0m\u001b[1;33m(\u001b[0m\u001b[0mtrain_path\u001b[0m\u001b[1;33m,\u001b[0m \u001b[0mtest_path\u001b[0m\u001b[1;33m,\u001b[0m \u001b[0mlabel_path\u001b[0m\u001b[1;33m,\u001b[0m \u001b[0mnpy_path\u001b[0m\u001b[1;33m,\u001b[0m \u001b[0mrows\u001b[0m\u001b[1;33m,\u001b[0m \u001b[0mcols\u001b[0m\u001b[1;33m)\u001b[0m\u001b[1;33m\u001b[0m\u001b[0m\n\u001b[0m",
      "\u001b[1;32m<ipython-input-9-b3f281efa48c>\u001b[0m in \u001b[0;36mtest\u001b[1;34m(train_path, test_path, label_path, npy_path, rows, cols)\u001b[0m\n\u001b[0;32m     12\u001b[0m \u001b[1;33m\u001b[0m\u001b[0m\n\u001b[0;32m     13\u001b[0m     \u001b[0mimgs_mask_test\u001b[0m \u001b[1;33m=\u001b[0m \u001b[0mmodel\u001b[0m\u001b[1;33m.\u001b[0m\u001b[0mpredict\u001b[0m\u001b[1;33m(\u001b[0m\u001b[0mimgs_test\u001b[0m\u001b[1;33m,\u001b[0m \u001b[0mbatch_size\u001b[0m \u001b[1;33m=\u001b[0m \u001b[1;36m4\u001b[0m\u001b[1;33m,\u001b[0m \u001b[0mverbose\u001b[0m\u001b[1;33m=\u001b[0m\u001b[1;36m1\u001b[0m\u001b[1;33m)\u001b[0m\u001b[1;33m\u001b[0m\u001b[0m\n\u001b[1;32m---> 14\u001b[1;33m     \u001b[0msave_results\u001b[0m\u001b[1;33m(\u001b[0m\u001b[0mimgs_mask_test\u001b[0m\u001b[1;33m)\u001b[0m\u001b[1;33m\u001b[0m\u001b[0m\n\u001b[0m",
      "\u001b[1;31mNameError\u001b[0m: name 'save_results' is not defined"
     ]
    }
   ],
   "source": [
    "test(train_path, test_path, label_path, npy_path, rows, cols)"
   ]
  },
  {
   "cell_type": "code",
   "execution_count": 14,
   "metadata": {
    "collapsed": true
   },
   "outputs": [],
   "source": [
    "def save_results(imgs):\n",
    "    i = 1\n",
    "    for img in imgs:\n",
    "            img = array_to_img(img)\n",
    "            img.save(\"data\\\\results\\\\%d.jpg\"%(i))   \n",
    "            i += 1"
   ]
  },
  {
   "cell_type": "markdown",
   "metadata": {},
   "source": [
    "# Main"
   ]
  },
  {
   "cell_type": "code",
   "execution_count": 12,
   "metadata": {},
   "outputs": [
    {
     "name": "stdout",
     "output_type": "stream",
     "text": [
      "Done: 0/35 images\n",
      "Done: 10/35 images\n",
      "Done: 20/35 images\n",
      "Done: 30/35 images\n",
      "Created.\n",
      "Saving to .npy files done.\n",
      "Done: 0/35 images\n",
      "Done: 10/35 images\n",
      "Done: 20/35 images\n",
      "Done: 30/35 images\n",
      "Created.\n",
      "Saving to .npy files done.\n",
      "Done: 0/4 images\n",
      "Created.\n",
      "Saving to .npy files done.\n"
     ]
    }
   ],
   "source": [
    "create_data(train_path, npy_path, rows, cols)\n",
    "create_data(label_path, npy_path, rows, cols)\n",
    "create_data(test_path, npy_path, rows, cols)"
   ]
  },
  {
   "cell_type": "code",
   "execution_count": null,
   "metadata": {
    "collapsed": true,
    "scrolled": true
   },
   "outputs": [],
   "source": [
    "train(train_path, test_path, label_path, npy_path, rows, cols)"
   ]
  },
  {
   "cell_type": "code",
   "execution_count": 17,
   "metadata": {},
   "outputs": [
    {
     "name": "stdout",
     "output_type": "stream",
     "text": [
      "\r",
      "4/4 [==============================] - 3s 762ms/step\n"
     ]
    }
   ],
   "source": [
    "predict(test_path, npy_path, rows, cols)"
   ]
  }
 ],
 "metadata": {
  "kernelspec": {
   "display_name": "Python 3",
   "language": "python",
   "name": "python3"
  },
  "language_info": {
   "codemirror_mode": {
    "name": "ipython",
    "version": 3
   },
   "file_extension": ".py",
   "mimetype": "text/x-python",
   "name": "python",
   "nbconvert_exporter": "python",
   "pygments_lexer": "ipython3",
   "version": "3.6.1"
  }
 },
 "nbformat": 4,
 "nbformat_minor": 2
}
